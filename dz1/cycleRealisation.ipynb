{
 "cells": [
  {
   "cell_type": "code",
   "execution_count": 2,
   "metadata": {
    "collapsed": true
   },
   "outputs": [],
   "source": [
    "import numpy as np\n",
    "import imageio"
   ]
  },
  {
   "cell_type": "code",
   "execution_count": 57,
   "outputs": [],
   "source": [
    "#1. Подсчитать  произведение ненулевых элементов на диагонали прямоугольной матрицы.\n",
    "#Функция\n",
    "def notNullDiag(arr):\n",
    "    mul = 1\n",
    "    for i in range(arr.shape[0]):\n",
    "        for j in range(arr.shape[1]):\n",
    "            if i == j:\n",
    "                if arr[i][j] != 0:\n",
    "                    mul *= arr[i][j]\n",
    "    return mul#1. Подсчитать  произведение ненулевых элементов на диагонали прямоугольной матрицы.\n",
    "#Функция\n",
    "def notNullDiag(arr):\n",
    "    mul = 1\n",
    "    for i in range(arr.shape[0]):\n",
    "        for j in range(arr.shape[1]):\n",
    "            if i == j:\n",
    "                if arr[i][j] != 0:\n",
    "                    mul *= arr[i][j]\n",
    "    return mul\n",
    "\n",
    "hundred = np.random.randint(1000, size=(100,90))\n",
    "thousand = np.random.randint(10000, size=(1000,900))\n",
    "tenThousand = np.random.randint(100000, size=(10000,9000))\n",
    "\n",
    "print(\"For hundred: \")\n",
    "%timeit notNullDiag(hundred)\n",
    "print(\"For thousand:\")\n",
    "%timeit notNullDiag(thousand)\n",
    "print(\"For ten thousand:\")\n",
    "%timeit notNullDiag(tenThousand)\n"
   ],
   "metadata": {
    "collapsed": false,
    "pycharm": {
     "name": "#%%\n"
    }
   }
  },
  {
   "cell_type": "code",
   "execution_count": null,
   "outputs": [],
   "source": [
    "#2. Дана матрица X и два вектора одинаковой длины i и j. Построить вектор np.array([X[i[0], j[0]], X[i[1], j[1]], ... , X[i[N-1], j[N-1]]]).\n",
    "#Функция\n",
    "\n",
    "def secondTask(x, i, j):\n",
    "    vector = np.zeros(i.size, dtype=int)\n",
    "    for k in range(i.size):\n",
    "        vector[k] = x[i[k],j[k]]\n",
    "    return vector\n",
    "\n",
    "X = np.random.randint(1000, size=(100,100))\n",
    "iHundred = np.random.randint(100, size=100)\n",
    "jHundred = np.random.randint(100, size=100)\n",
    "\n",
    "iThousand = np.random.randint(100, size=1000)\n",
    "jThousand = np.random.randint(100, size=1000)\n",
    "\n",
    "iTenThousand = np.random.randint(100, size=10000)\n",
    "jTenThousand = np.random.randint(100, size=10000)\n",
    "\n",
    "%timeit secondTask(X, iHundred, jHundred)\n",
    "%timeit secondTask(X, iThousand, jThousand)\n",
    "%timeit secondTask(X, iTenThousand, jTenThousand)"
   ],
   "metadata": {
    "collapsed": false,
    "pycharm": {
     "name": "#%%\n"
    }
   }
  },
  {
   "cell_type": "code",
   "execution_count": 85,
   "outputs": [
    {
     "name": "stdout",
     "output_type": "stream",
     "text": [
      "327 µs ± 1.23 µs per loop (mean ± std. dev. of 7 runs, 1000 loops each)\n",
      "5.77 ms ± 40.7 µs per loop (mean ± std. dev. of 7 runs, 100 loops each)\n",
      "223 ms ± 3.74 ms per loop (mean ± std. dev. of 7 runs, 1 loop each)\n"
     ]
    }
   ],
   "source": [
    "#3. Даны два вектора x и y. Проверить, задают ли они одно и то же мультимножество.\n",
    "#Функция\n",
    "\n",
    "def isMultiset(arr1, arr2):\n",
    "    isMul = True\n",
    "    if arr1.size == arr2.size:\n",
    "        for i in range(arr1.size):\n",
    "            if arr1[arr1 == arr1[i]].size != arr2[arr2 == arr1[i]].size:\n",
    "                isMul = False\n",
    "                break\n",
    "    else:\n",
    "        isMul = False\n",
    "    return isMul\n",
    "\n",
    "#3.Тесты\n",
    "hundredX = np.random.randint(0, 1, 100)\n",
    "hundredY = np.random.randint(0, 1, 100)\n",
    "\n",
    "thousandX = np.random.randint(0, 1, 1000)\n",
    "thousandY = np.random.randint(0, 1, 1000)\n",
    "\n",
    "tenThousandX = np.random.randint(0, 1, 10000)\n",
    "tenThousandY = np.random.randint(0, 1, 10000)\n",
    "\n",
    "%timeit isMultiset(hundredX, hundredY)\n",
    "%timeit isMultiset(thousandX, thousandY)\n",
    "%timeit isMultiset(tenThousandX, tenThousandY)"
   ],
   "metadata": {
    "collapsed": false,
    "pycharm": {
     "name": "#%%\n"
    }
   }
  },
  {
   "cell_type": "code",
   "execution_count": 3,
   "outputs": [
    {
     "name": "stdout",
     "output_type": "stream",
     "text": [
      "19.6 µs ± 382 ns per loop (mean ± std. dev. of 7 runs, 100000 loops each)\n",
      "208 µs ± 4.05 µs per loop (mean ± std. dev. of 7 runs, 1000 loops each)\n",
      "2.14 ms ± 30 µs per loop (mean ± std. dev. of 7 runs, 100 loops each)\n"
     ]
    }
   ],
   "source": [
    "#4. Найти максимальный элемент в векторе x среди элементов, перед которыми стоит нулевой.\n",
    "#Функция\n",
    "\n",
    "def fourTask(arr):\n",
    "    max = 0\n",
    "    for i in range(1, arr.size):\n",
    "        if arr[i-1] == 0:\n",
    "            if arr[i] > max:\n",
    "                max = arr[i]\n",
    "    return max\n",
    "\n",
    "#4.Тесты\n",
    "hundred = np.random.randint(1000, size=100)\n",
    "thousand = np.random.randint(10000, size=1000)\n",
    "tenThousand = np.random.randint(100000, size=10000)\n",
    "\n",
    "%timeit fourTask(hundred)\n",
    "%timeit fourTask(thousand)\n",
    "%timeit fourTask(tenThousand)"
   ],
   "metadata": {
    "collapsed": false,
    "pycharm": {
     "name": "#%%\n"
    }
   }
  },
  {
   "cell_type": "code",
   "execution_count": 131,
   "outputs": [
    {
     "name": "stdout",
     "output_type": "stream",
     "text": [
      "336 ms ± 19.8 ms per loop (mean ± std. dev. of 7 runs, 1 loop each)\n",
      "498 ms ± 33.3 ms per loop (mean ± std. dev. of 7 runs, 1 loop each)\n",
      "4.07 s ± 293 ms per loop (mean ± std. dev. of 7 runs, 1 loop each)\n"
     ]
    }
   ],
   "source": [
    "#5.1\n",
    "\n",
    "def imageTask(img, weights):\n",
    "    imageReturn = np.zeros((img.shape[1], img.shape[2]))\n",
    "    image = np.zeros((img.shape[1], img.shape[2]))\n",
    "    for i in range(img.shape[0]):\n",
    "        for j in range(img.shape[1]):\n",
    "            for k in range(img.shape[2]):\n",
    "                image[j, k] = img[i, j, k]*weights[i]\n",
    "        imageReturn += image\n",
    "    return imageReturn\n",
    "\n",
    "imageBig = imageio.imread('big.jpg').transpose(2,0,1)\n",
    "imageMiddle = imageio.imread('small.jpg').transpose(2,0,1)\n",
    "imageSmall = imageio.imread('middle.jpg').transpose(2,0,1)\n",
    "weights = np.array([0.299, 0.587, 0.114])\n",
    "\n",
    "%timeit imageTask(imageSmall, weights)\n",
    "%timeit imageTask(imageMiddle, weights)\n",
    "%timeit imageTask(imageBig, weights)\n"
   ],
   "metadata": {
    "collapsed": false,
    "pycharm": {
     "name": "#%%\n"
    }
   }
  },
  {
   "cell_type": "code",
   "execution_count": 86,
   "outputs": [
    {
     "name": "stdout",
     "output_type": "stream",
     "text": [
      "185 µs ± 717 ns per loop (mean ± std. dev. of 7 runs, 10000 loops each)\n",
      "2.47 ms ± 27.3 µs per loop (mean ± std. dev. of 7 runs, 100 loops each)\n",
      "59.7 ms ± 778 µs per loop (mean ± std. dev. of 7 runs, 10 loops each)\n"
     ]
    }
   ],
   "source": [
    "#6. Реализовать кодирование длин серий (Run-length encoding). Дан вектор x. Необходимо вернуть кортеж из двух векторов одинаковой длины. Первый содержит числа, а второй - сколько раз их нужно повторить.\n",
    "\n",
    "def runLength(arr):\n",
    "    uniq = np.array(np.unique(arr))\n",
    "    runLengthEncoding = (uniq,uniq)\n",
    "    for i in range(uniq.size):\n",
    "        size = arr[arr == uniq[i]].size\n",
    "        runLengthEncoding[0][i] = uniq[i]\n",
    "        runLengthEncoding[1][i] = size\n",
    "    return runLengthEncoding\n",
    "\n",
    "hundred6 = np.random.randint(1000, size=100)\n",
    "thousand6 = np.random.randint(10000, size=1000)\n",
    "tenThousand6 = np.random.randint(100000, size=10000)\n",
    "\n",
    "%timeit runLength(hundred6)\n",
    "%timeit runLength(thousand6)\n",
    "%timeit runLength(tenThousand6)"
   ],
   "metadata": {
    "collapsed": false,
    "pycharm": {
     "name": "#%%\n"
    }
   }
  },
  {
   "cell_type": "code",
   "execution_count": 133,
   "outputs": [
    {
     "name": "stdout",
     "output_type": "stream",
     "text": [
      "[[0.         1.41421356 2.82842712 4.24264069]\n",
      " [1.41421356 0.         1.41421356 2.82842712]\n",
      " [2.82842712 1.41421356 0.         1.41421356]\n",
      " [4.24264069 2.82842712 1.41421356 0.        ]]\n",
      "58.5 µs ± 719 ns per loop (mean ± std. dev. of 7 runs, 10000 loops each)\n",
      "3.67 s ± 157 ms per loop (mean ± std. dev. of 7 runs, 1 loop each)\n"
     ]
    },
    {
     "ename": "KeyboardInterrupt",
     "evalue": "",
     "output_type": "error",
     "traceback": [
      "\u001B[0;31m---------------------------------------------------------------------------\u001B[0m",
      "\u001B[0;31mKeyboardInterrupt\u001B[0m                         Traceback (most recent call last)",
      "\u001B[0;32m/var/folders/04/7ltt_n9d1z14zmw8_ky4jc5h0000gn/T/ipykernel_79267/596914517.py\u001B[0m in \u001B[0;36m<module>\u001B[0;34m\u001B[0m\n\u001B[1;32m     24\u001B[0m \u001B[0mget_ipython\u001B[0m\u001B[0;34m(\u001B[0m\u001B[0;34m)\u001B[0m\u001B[0;34m.\u001B[0m\u001B[0mrun_line_magic\u001B[0m\u001B[0;34m(\u001B[0m\u001B[0;34m'timeit'\u001B[0m\u001B[0;34m,\u001B[0m \u001B[0;34m'euclid(hundredX, hundredY)'\u001B[0m\u001B[0;34m)\u001B[0m\u001B[0;34m\u001B[0m\u001B[0;34m\u001B[0m\u001B[0m\n\u001B[1;32m     25\u001B[0m \u001B[0mget_ipython\u001B[0m\u001B[0;34m(\u001B[0m\u001B[0;34m)\u001B[0m\u001B[0;34m.\u001B[0m\u001B[0mrun_line_magic\u001B[0m\u001B[0;34m(\u001B[0m\u001B[0;34m'timeit'\u001B[0m\u001B[0;34m,\u001B[0m \u001B[0;34m'euclid(thousandX, thousandY)'\u001B[0m\u001B[0;34m)\u001B[0m\u001B[0;34m\u001B[0m\u001B[0;34m\u001B[0m\u001B[0m\n\u001B[0;32m---> 26\u001B[0;31m \u001B[0mget_ipython\u001B[0m\u001B[0;34m(\u001B[0m\u001B[0;34m)\u001B[0m\u001B[0;34m.\u001B[0m\u001B[0mrun_line_magic\u001B[0m\u001B[0;34m(\u001B[0m\u001B[0;34m'timeit'\u001B[0m\u001B[0;34m,\u001B[0m \u001B[0;34m'euclid(tenThousandX, tenThousandY)'\u001B[0m\u001B[0;34m)\u001B[0m\u001B[0;34m\u001B[0m\u001B[0;34m\u001B[0m\u001B[0m\n\u001B[0m",
      "\u001B[0;32m~/opt/anaconda3/lib/python3.9/site-packages/IPython/core/interactiveshell.py\u001B[0m in \u001B[0;36mrun_line_magic\u001B[0;34m(self, magic_name, line, _stack_depth)\u001B[0m\n\u001B[1;32m   2349\u001B[0m                 \u001B[0mkwargs\u001B[0m\u001B[0;34m[\u001B[0m\u001B[0;34m'local_ns'\u001B[0m\u001B[0;34m]\u001B[0m \u001B[0;34m=\u001B[0m \u001B[0mself\u001B[0m\u001B[0;34m.\u001B[0m\u001B[0mget_local_scope\u001B[0m\u001B[0;34m(\u001B[0m\u001B[0mstack_depth\u001B[0m\u001B[0;34m)\u001B[0m\u001B[0;34m\u001B[0m\u001B[0;34m\u001B[0m\u001B[0m\n\u001B[1;32m   2350\u001B[0m             \u001B[0;32mwith\u001B[0m \u001B[0mself\u001B[0m\u001B[0;34m.\u001B[0m\u001B[0mbuiltin_trap\u001B[0m\u001B[0;34m:\u001B[0m\u001B[0;34m\u001B[0m\u001B[0;34m\u001B[0m\u001B[0m\n\u001B[0;32m-> 2351\u001B[0;31m                 \u001B[0mresult\u001B[0m \u001B[0;34m=\u001B[0m \u001B[0mfn\u001B[0m\u001B[0;34m(\u001B[0m\u001B[0;34m*\u001B[0m\u001B[0margs\u001B[0m\u001B[0;34m,\u001B[0m \u001B[0;34m**\u001B[0m\u001B[0mkwargs\u001B[0m\u001B[0;34m)\u001B[0m\u001B[0;34m\u001B[0m\u001B[0;34m\u001B[0m\u001B[0m\n\u001B[0m\u001B[1;32m   2352\u001B[0m             \u001B[0;32mreturn\u001B[0m \u001B[0mresult\u001B[0m\u001B[0;34m\u001B[0m\u001B[0;34m\u001B[0m\u001B[0m\n\u001B[1;32m   2353\u001B[0m \u001B[0;34m\u001B[0m\u001B[0m\n",
      "\u001B[0;32m~/opt/anaconda3/lib/python3.9/site-packages/decorator.py\u001B[0m in \u001B[0;36mfun\u001B[0;34m(*args, **kw)\u001B[0m\n\u001B[1;32m    230\u001B[0m             \u001B[0;32mif\u001B[0m \u001B[0;32mnot\u001B[0m \u001B[0mkwsyntax\u001B[0m\u001B[0;34m:\u001B[0m\u001B[0;34m\u001B[0m\u001B[0;34m\u001B[0m\u001B[0m\n\u001B[1;32m    231\u001B[0m                 \u001B[0margs\u001B[0m\u001B[0;34m,\u001B[0m \u001B[0mkw\u001B[0m \u001B[0;34m=\u001B[0m \u001B[0mfix\u001B[0m\u001B[0;34m(\u001B[0m\u001B[0margs\u001B[0m\u001B[0;34m,\u001B[0m \u001B[0mkw\u001B[0m\u001B[0;34m,\u001B[0m \u001B[0msig\u001B[0m\u001B[0;34m)\u001B[0m\u001B[0;34m\u001B[0m\u001B[0;34m\u001B[0m\u001B[0m\n\u001B[0;32m--> 232\u001B[0;31m             \u001B[0;32mreturn\u001B[0m \u001B[0mcaller\u001B[0m\u001B[0;34m(\u001B[0m\u001B[0mfunc\u001B[0m\u001B[0;34m,\u001B[0m \u001B[0;34m*\u001B[0m\u001B[0;34m(\u001B[0m\u001B[0mextras\u001B[0m \u001B[0;34m+\u001B[0m \u001B[0margs\u001B[0m\u001B[0;34m)\u001B[0m\u001B[0;34m,\u001B[0m \u001B[0;34m**\u001B[0m\u001B[0mkw\u001B[0m\u001B[0;34m)\u001B[0m\u001B[0;34m\u001B[0m\u001B[0;34m\u001B[0m\u001B[0m\n\u001B[0m\u001B[1;32m    233\u001B[0m     \u001B[0mfun\u001B[0m\u001B[0;34m.\u001B[0m\u001B[0m__name__\u001B[0m \u001B[0;34m=\u001B[0m \u001B[0mfunc\u001B[0m\u001B[0;34m.\u001B[0m\u001B[0m__name__\u001B[0m\u001B[0;34m\u001B[0m\u001B[0;34m\u001B[0m\u001B[0m\n\u001B[1;32m    234\u001B[0m     \u001B[0mfun\u001B[0m\u001B[0;34m.\u001B[0m\u001B[0m__doc__\u001B[0m \u001B[0;34m=\u001B[0m \u001B[0mfunc\u001B[0m\u001B[0;34m.\u001B[0m\u001B[0m__doc__\u001B[0m\u001B[0;34m\u001B[0m\u001B[0;34m\u001B[0m\u001B[0m\n",
      "\u001B[0;32m~/opt/anaconda3/lib/python3.9/site-packages/IPython/core/magic.py\u001B[0m in \u001B[0;36m<lambda>\u001B[0;34m(f, *a, **k)\u001B[0m\n\u001B[1;32m    185\u001B[0m     \u001B[0;31m# but it's overkill for just that one bit of state.\u001B[0m\u001B[0;34m\u001B[0m\u001B[0;34m\u001B[0m\u001B[0m\n\u001B[1;32m    186\u001B[0m     \u001B[0;32mdef\u001B[0m \u001B[0mmagic_deco\u001B[0m\u001B[0;34m(\u001B[0m\u001B[0marg\u001B[0m\u001B[0;34m)\u001B[0m\u001B[0;34m:\u001B[0m\u001B[0;34m\u001B[0m\u001B[0;34m\u001B[0m\u001B[0m\n\u001B[0;32m--> 187\u001B[0;31m         \u001B[0mcall\u001B[0m \u001B[0;34m=\u001B[0m \u001B[0;32mlambda\u001B[0m \u001B[0mf\u001B[0m\u001B[0;34m,\u001B[0m \u001B[0;34m*\u001B[0m\u001B[0ma\u001B[0m\u001B[0;34m,\u001B[0m \u001B[0;34m**\u001B[0m\u001B[0mk\u001B[0m\u001B[0;34m:\u001B[0m \u001B[0mf\u001B[0m\u001B[0;34m(\u001B[0m\u001B[0;34m*\u001B[0m\u001B[0ma\u001B[0m\u001B[0;34m,\u001B[0m \u001B[0;34m**\u001B[0m\u001B[0mk\u001B[0m\u001B[0;34m)\u001B[0m\u001B[0;34m\u001B[0m\u001B[0;34m\u001B[0m\u001B[0m\n\u001B[0m\u001B[1;32m    188\u001B[0m \u001B[0;34m\u001B[0m\u001B[0m\n\u001B[1;32m    189\u001B[0m         \u001B[0;32mif\u001B[0m \u001B[0mcallable\u001B[0m\u001B[0;34m(\u001B[0m\u001B[0marg\u001B[0m\u001B[0;34m)\u001B[0m\u001B[0;34m:\u001B[0m\u001B[0;34m\u001B[0m\u001B[0;34m\u001B[0m\u001B[0m\n",
      "\u001B[0;32m~/opt/anaconda3/lib/python3.9/site-packages/IPython/core/magics/execution.py\u001B[0m in \u001B[0;36mtimeit\u001B[0;34m(self, line, cell, local_ns)\u001B[0m\n\u001B[1;32m   1167\u001B[0m             \u001B[0;32mfor\u001B[0m \u001B[0mindex\u001B[0m \u001B[0;32min\u001B[0m \u001B[0mrange\u001B[0m\u001B[0;34m(\u001B[0m\u001B[0;36m0\u001B[0m\u001B[0;34m,\u001B[0m \u001B[0;36m10\u001B[0m\u001B[0;34m)\u001B[0m\u001B[0;34m:\u001B[0m\u001B[0;34m\u001B[0m\u001B[0;34m\u001B[0m\u001B[0m\n\u001B[1;32m   1168\u001B[0m                 \u001B[0mnumber\u001B[0m \u001B[0;34m=\u001B[0m \u001B[0;36m10\u001B[0m \u001B[0;34m**\u001B[0m \u001B[0mindex\u001B[0m\u001B[0;34m\u001B[0m\u001B[0;34m\u001B[0m\u001B[0m\n\u001B[0;32m-> 1169\u001B[0;31m                 \u001B[0mtime_number\u001B[0m \u001B[0;34m=\u001B[0m \u001B[0mtimer\u001B[0m\u001B[0;34m.\u001B[0m\u001B[0mtimeit\u001B[0m\u001B[0;34m(\u001B[0m\u001B[0mnumber\u001B[0m\u001B[0;34m)\u001B[0m\u001B[0;34m\u001B[0m\u001B[0;34m\u001B[0m\u001B[0m\n\u001B[0m\u001B[1;32m   1170\u001B[0m                 \u001B[0;32mif\u001B[0m \u001B[0mtime_number\u001B[0m \u001B[0;34m>=\u001B[0m \u001B[0;36m0.2\u001B[0m\u001B[0;34m:\u001B[0m\u001B[0;34m\u001B[0m\u001B[0;34m\u001B[0m\u001B[0m\n\u001B[1;32m   1171\u001B[0m                     \u001B[0;32mbreak\u001B[0m\u001B[0;34m\u001B[0m\u001B[0;34m\u001B[0m\u001B[0m\n",
      "\u001B[0;32m~/opt/anaconda3/lib/python3.9/site-packages/IPython/core/magics/execution.py\u001B[0m in \u001B[0;36mtimeit\u001B[0;34m(self, number)\u001B[0m\n\u001B[1;32m    167\u001B[0m         \u001B[0mgc\u001B[0m\u001B[0;34m.\u001B[0m\u001B[0mdisable\u001B[0m\u001B[0;34m(\u001B[0m\u001B[0;34m)\u001B[0m\u001B[0;34m\u001B[0m\u001B[0;34m\u001B[0m\u001B[0m\n\u001B[1;32m    168\u001B[0m         \u001B[0;32mtry\u001B[0m\u001B[0;34m:\u001B[0m\u001B[0;34m\u001B[0m\u001B[0;34m\u001B[0m\u001B[0m\n\u001B[0;32m--> 169\u001B[0;31m             \u001B[0mtiming\u001B[0m \u001B[0;34m=\u001B[0m \u001B[0mself\u001B[0m\u001B[0;34m.\u001B[0m\u001B[0minner\u001B[0m\u001B[0;34m(\u001B[0m\u001B[0mit\u001B[0m\u001B[0;34m,\u001B[0m \u001B[0mself\u001B[0m\u001B[0;34m.\u001B[0m\u001B[0mtimer\u001B[0m\u001B[0;34m)\u001B[0m\u001B[0;34m\u001B[0m\u001B[0;34m\u001B[0m\u001B[0m\n\u001B[0m\u001B[1;32m    170\u001B[0m         \u001B[0;32mfinally\u001B[0m\u001B[0;34m:\u001B[0m\u001B[0;34m\u001B[0m\u001B[0;34m\u001B[0m\u001B[0m\n\u001B[1;32m    171\u001B[0m             \u001B[0;32mif\u001B[0m \u001B[0mgcold\u001B[0m\u001B[0;34m:\u001B[0m\u001B[0;34m\u001B[0m\u001B[0;34m\u001B[0m\u001B[0m\n",
      "\u001B[0;32m<magic-timeit>\u001B[0m in \u001B[0;36minner\u001B[0;34m(_it, _timer)\u001B[0m\n",
      "\u001B[0;32m/var/folders/04/7ltt_n9d1z14zmw8_ky4jc5h0000gn/T/ipykernel_79267/596914517.py\u001B[0m in \u001B[0;36meuclid\u001B[0;34m(x, y)\u001B[0m\n\u001B[1;32m      5\u001B[0m     \u001B[0;32mfor\u001B[0m \u001B[0mi\u001B[0m \u001B[0;32min\u001B[0m \u001B[0mrange\u001B[0m\u001B[0;34m(\u001B[0m\u001B[0mx\u001B[0m\u001B[0;34m.\u001B[0m\u001B[0msize\u001B[0m\u001B[0;34m)\u001B[0m\u001B[0;34m:\u001B[0m\u001B[0;34m\u001B[0m\u001B[0;34m\u001B[0m\u001B[0m\n\u001B[1;32m      6\u001B[0m         \u001B[0;32mfor\u001B[0m \u001B[0mj\u001B[0m \u001B[0;32min\u001B[0m \u001B[0mrange\u001B[0m\u001B[0;34m(\u001B[0m\u001B[0mx\u001B[0m\u001B[0;34m.\u001B[0m\u001B[0msize\u001B[0m\u001B[0;34m)\u001B[0m\u001B[0;34m:\u001B[0m\u001B[0;34m\u001B[0m\u001B[0;34m\u001B[0m\u001B[0m\n\u001B[0;32m----> 7\u001B[0;31m             \u001B[0marr\u001B[0m\u001B[0;34m[\u001B[0m\u001B[0mi\u001B[0m\u001B[0;34m,\u001B[0m\u001B[0mj\u001B[0m\u001B[0;34m]\u001B[0m \u001B[0;34m=\u001B[0m \u001B[0mnp\u001B[0m\u001B[0;34m.\u001B[0m\u001B[0msqrt\u001B[0m\u001B[0;34m(\u001B[0m \u001B[0mnp\u001B[0m\u001B[0;34m.\u001B[0m\u001B[0msquare\u001B[0m\u001B[0;34m(\u001B[0m\u001B[0mx\u001B[0m\u001B[0;34m[\u001B[0m\u001B[0mj\u001B[0m\u001B[0;34m]\u001B[0m \u001B[0;34m-\u001B[0m \u001B[0mx\u001B[0m\u001B[0;34m[\u001B[0m\u001B[0mi\u001B[0m\u001B[0;34m]\u001B[0m\u001B[0;34m)\u001B[0m \u001B[0;34m+\u001B[0m \u001B[0mnp\u001B[0m\u001B[0;34m.\u001B[0m\u001B[0msquare\u001B[0m\u001B[0;34m(\u001B[0m\u001B[0my\u001B[0m\u001B[0;34m[\u001B[0m\u001B[0mj\u001B[0m\u001B[0;34m]\u001B[0m \u001B[0;34m-\u001B[0m \u001B[0my\u001B[0m\u001B[0;34m[\u001B[0m\u001B[0mi\u001B[0m\u001B[0;34m]\u001B[0m\u001B[0;34m)\u001B[0m\u001B[0;34m)\u001B[0m\u001B[0;34m\u001B[0m\u001B[0;34m\u001B[0m\u001B[0m\n\u001B[0m\u001B[1;32m      8\u001B[0m     \u001B[0;32mreturn\u001B[0m \u001B[0marr\u001B[0m\u001B[0;34m\u001B[0m\u001B[0;34m\u001B[0m\u001B[0m\n\u001B[1;32m      9\u001B[0m \u001B[0;34m\u001B[0m\u001B[0m\n",
      "\u001B[0;31mKeyboardInterrupt\u001B[0m: "
     ]
    }
   ],
   "source": [
    "#7. Даны две выборки объектов - X и Y. Вычислить матрицу евклидовых расстояний между объектами. Сравнить с функцией scipy.spatial.distance.cdist.\n",
    "\n",
    "def euclid(x, y):\n",
    "    arr = np.zeros((x.size, x.size))\n",
    "    for i in range(x.size):\n",
    "        for j in range(x.size):\n",
    "            arr[i,j] = np.sqrt( np.square(x[j] - x[i]) + np.square(y[j] - y[i]))\n",
    "    return arr\n",
    "\n",
    "hundredX = np.random.randint(100, size=100)\n",
    "hundredY = np.random.randint(100, size=100)\n",
    "\n",
    "hundredX = np.arange(4)\n",
    "hundredY = np.arange(4)\n",
    "\n",
    "thousandX = np.random.randint(100, size=1000)\n",
    "thousandY = np.random.randint(100, size=1000)\n",
    "\n",
    "tenThousandX = np.random.randint(100, size=10000)\n",
    "tenThousandY = np.random.randint(100, size=10000)\n",
    "\n",
    "%timeit euclid(hundredX, hundredY)\n",
    "%timeit euclid(thousandX, thousandY)\n",
    "%timeit euclid(tenThousandX, tenThousandY)"
   ],
   "metadata": {
    "collapsed": false,
    "pycharm": {
     "name": "#%%\n"
    }
   }
  },
  {
   "cell_type": "code",
   "execution_count": 132,
   "outputs": [],
   "source": [],
   "metadata": {
    "collapsed": false,
    "pycharm": {
     "name": "#%%\n"
    }
   }
  },
  {
   "cell_type": "code",
   "execution_count": null,
   "outputs": [],
   "source": [],
   "metadata": {
    "collapsed": false,
    "pycharm": {
     "name": "#%%\n"
    }
   }
  }
 ],
 "metadata": {
  "kernelspec": {
   "display_name": "Python 3",
   "language": "python",
   "name": "python3"
  },
  "language_info": {
   "codemirror_mode": {
    "name": "ipython",
    "version": 2
   },
   "file_extension": ".py",
   "mimetype": "text/x-python",
   "name": "python",
   "nbconvert_exporter": "python",
   "pygments_lexer": "ipython2",
   "version": "2.7.6"
  }
 },
 "nbformat": 4,
 "nbformat_minor": 0
}