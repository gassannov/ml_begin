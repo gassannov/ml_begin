{
 "cells": [
  {
   "cell_type": "code",
   "execution_count": 580,
   "metadata": {
    "collapsed": true
   },
   "outputs": [],
   "source": [
    "import numpy as np\n",
    "import pandas as pd\n",
    "import matplotlib.pyplot as plt\n",
    "from PIL import Image\n",
    "from io import BytesIO\n",
    "import requests\n",
    "from sklearn.neighbors import NearestNeighbors\n",
    "from sklearn.cluster import DBSCAN\n",
    "from sklearn.preprocessing import LabelEncoder\n",
    "from sklearn.cluster import KMeans\n",
    "from sklearn.preprocessing import OneHotEncoder\n",
    "from scipy.sparse import coo_matrix, csr_matrix\n",
    "from sklearn.metrics.pairwise import cosine_similarity\n",
    "from sklearn.decomposition import PCA"
   ]
  },
  {
   "cell_type": "code",
   "execution_count": 581,
   "outputs": [
    {
     "name": "stderr",
     "output_type": "stream",
     "text": [
      "/Users/maratgasanov/opt/anaconda3/lib/python3.9/site-packages/IPython/core/interactiveshell.py:3444: DtypeWarning: Columns (3) have mixed types.Specify dtype option on import or set low_memory=False.\n",
      "  exec(code_obj, self.user_global_ns, self.user_ns)\n"
     ]
    }
   ],
   "source": [
    "bx_users = pd.read_csv(\"data/BX-Users.csv\", on_bad_lines='skip', sep=';')\n",
    "bx_books = pd.read_csv(\"data/BX-Books.csv\", on_bad_lines='skip')\n",
    "bx_books_ratings = pd.read_csv(\"data/BX-Book-Ratings.csv\", on_bad_lines='skip', sep=';')"
   ],
   "metadata": {
    "collapsed": false,
    "pycharm": {
     "name": "#%%\n"
    }
   }
  },
  {
   "cell_type": "code",
   "execution_count": 582,
   "outputs": [],
   "source": [
    "bx_books_ratings = bx_books_ratings[bx_books_ratings['Book-Rating'] != 0]"
   ],
   "metadata": {
    "collapsed": false,
    "pycharm": {
     "name": "#%%\n"
    }
   }
  },
  {
   "cell_type": "code",
   "execution_count": 583,
   "outputs": [],
   "source": [
    "books_show = bx_books\n",
    "def chunks(l, n):\n",
    "    for i in range(0, len(l), n):\n",
    "        yield l[i:i + n]\n",
    "\n",
    "def show_rating(urls):\n",
    "    for idx, chunk in enumerate(chunks(urls, 10)):\n",
    "        fig = plt.figure(figsize=(20, 4))\n",
    "        for n, i in enumerate(chunk):\n",
    "            try:\n",
    "                r = requests.get(i)\n",
    "                im = Image.open(BytesIO(r.content))\n",
    "\n",
    "            except:\n",
    "                print('Something went wrong with {url}'.format(url=i))\n",
    "                continue\n",
    "\n",
    "            a = fig.add_subplot(1, urls.size, n + 1)\n",
    "            plt.imshow(im)\n",
    "            plt.axis('off')\n",
    "        plt.show()"
   ],
   "metadata": {
    "collapsed": false,
    "pycharm": {
     "name": "#%%\n"
    }
   }
  },
  {
   "cell_type": "markdown",
   "source": [
    "### 1. Реализовать персональный топ  - принимает на вход возраст и локацию, на выходе персональный топ   - 1 балл\n",
    "\n",
    "Персональный топ - это топ товаров по похожим возрасту/интересам/локации. Как сделать? Разбить на сегменты по выбраным признакам. Топ делать по книгам с хорошим средним рейтингом.\n"
   ],
   "metadata": {
    "collapsed": false,
    "pycharm": {
     "name": "#%% md\n"
    }
   }
  },
  {
   "cell_type": "code",
   "execution_count": 584,
   "outputs": [],
   "source": [
    "#Выводит топ лучших из dataframe по оценке\n",
    "def getTopItems(dataframe, id_name=\"ISBN\", rating_column_name=\"Book-Rating\", top_n=10, min_count=2):\n",
    "    vc = dataframe[id_name].value_counts()\n",
    "    ll = dataframe[dataframe[id_name].isin(vc[vc>min_count].index)]\n",
    "    ll = ll[[id_name, rating_column_name]].groupby(id_name).mean()\n",
    "    ll = ll.sort_values(rating_column_name, ascending=False)[:top_n]\n",
    "    ll[\"id\"] = dataframe[id_name]\n",
    "    return ll"
   ],
   "metadata": {
    "collapsed": false,
    "pycharm": {
     "name": "#%%\n"
    }
   }
  },
  {
   "cell_type": "code",
   "execution_count": 585,
   "outputs": [],
   "source": [
    "def rec_user(location, age, dataframe, rating_dataframe, age_column_name='Age', location_column_name='Location', user_id_column_name = 'User-ID', top_n=10, min_count=2):\n",
    "    by_location = dataframe[dataframe[location_column_name].isin([location]) | dataframe[age_column_name].isin([age])][user_id_column_name]\n",
    "    rating_location = rating_dataframe[rating_dataframe[user_id_column_name].isin(by_location)]\n",
    "    return getTopItems(rating_location, top_n=top_n, min_count=min_count)"
   ],
   "metadata": {
    "collapsed": false,
    "pycharm": {
     "name": "#%%\n"
    }
   }
  },
  {
   "cell_type": "code",
   "execution_count": 619,
   "outputs": [
    {
     "ename": "KeyError",
     "evalue": "'Location'",
     "output_type": "error",
     "traceback": [
      "\u001B[0;31m---------------------------------------------------------------------------\u001B[0m",
      "\u001B[0;31mKeyError\u001B[0m                                  Traceback (most recent call last)",
      "\u001B[0;32m~/opt/anaconda3/lib/python3.9/site-packages/pandas/core/indexes/base.py\u001B[0m in \u001B[0;36mget_loc\u001B[0;34m(self, key, method, tolerance)\u001B[0m\n\u001B[1;32m   3360\u001B[0m             \u001B[0;32mtry\u001B[0m\u001B[0;34m:\u001B[0m\u001B[0;34m\u001B[0m\u001B[0;34m\u001B[0m\u001B[0m\n\u001B[0;32m-> 3361\u001B[0;31m                 \u001B[0;32mreturn\u001B[0m \u001B[0mself\u001B[0m\u001B[0;34m.\u001B[0m\u001B[0m_engine\u001B[0m\u001B[0;34m.\u001B[0m\u001B[0mget_loc\u001B[0m\u001B[0;34m(\u001B[0m\u001B[0mcasted_key\u001B[0m\u001B[0;34m)\u001B[0m\u001B[0;34m\u001B[0m\u001B[0;34m\u001B[0m\u001B[0m\n\u001B[0m\u001B[1;32m   3362\u001B[0m             \u001B[0;32mexcept\u001B[0m \u001B[0mKeyError\u001B[0m \u001B[0;32mas\u001B[0m \u001B[0merr\u001B[0m\u001B[0;34m:\u001B[0m\u001B[0;34m\u001B[0m\u001B[0;34m\u001B[0m\u001B[0m\n",
      "\u001B[0;32m~/opt/anaconda3/lib/python3.9/site-packages/pandas/_libs/index.pyx\u001B[0m in \u001B[0;36mpandas._libs.index.IndexEngine.get_loc\u001B[0;34m()\u001B[0m\n",
      "\u001B[0;32m~/opt/anaconda3/lib/python3.9/site-packages/pandas/_libs/index.pyx\u001B[0m in \u001B[0;36mpandas._libs.index.IndexEngine.get_loc\u001B[0;34m()\u001B[0m\n",
      "\u001B[0;32mpandas/_libs/hashtable_class_helper.pxi\u001B[0m in \u001B[0;36mpandas._libs.hashtable.PyObjectHashTable.get_item\u001B[0;34m()\u001B[0m\n",
      "\u001B[0;32mpandas/_libs/hashtable_class_helper.pxi\u001B[0m in \u001B[0;36mpandas._libs.hashtable.PyObjectHashTable.get_item\u001B[0;34m()\u001B[0m\n",
      "\u001B[0;31mKeyError\u001B[0m: 'Location'",
      "\nThe above exception was the direct cause of the following exception:\n",
      "\u001B[0;31mKeyError\u001B[0m                                  Traceback (most recent call last)",
      "\u001B[0;32m/var/folders/04/7ltt_n9d1z14zmw8_ky4jc5h0000gn/T/ipykernel_33474/767747541.py\u001B[0m in \u001B[0;36m<module>\u001B[0;34m\u001B[0m\n\u001B[0;32m----> 1\u001B[0;31m \u001B[0mrec\u001B[0m \u001B[0;34m=\u001B[0m \u001B[0mrec_user\u001B[0m\u001B[0;34m(\u001B[0m\u001B[0;34m\"castellar del valles, barcelona, spain\"\u001B[0m\u001B[0;34m,\u001B[0m \u001B[0;36m20\u001B[0m\u001B[0;34m,\u001B[0m \u001B[0mbx_users\u001B[0m\u001B[0;34m,\u001B[0m \u001B[0mbx_books_ratings\u001B[0m\u001B[0;34m,\u001B[0m \u001B[0mtop_n\u001B[0m\u001B[0;34m=\u001B[0m\u001B[0;36m10\u001B[0m\u001B[0;34m)\u001B[0m\u001B[0;34m\u001B[0m\u001B[0;34m\u001B[0m\u001B[0m\n\u001B[0m\u001B[1;32m      2\u001B[0m \u001B[0mrec\u001B[0m\u001B[0;34m\u001B[0m\u001B[0;34m\u001B[0m\u001B[0m\n",
      "\u001B[0;32m/var/folders/04/7ltt_n9d1z14zmw8_ky4jc5h0000gn/T/ipykernel_33474/2915369896.py\u001B[0m in \u001B[0;36mrec_user\u001B[0;34m(location, age, dataframe, rating_dataframe, age_column_name, location_column_name, user_id_column_name, top_n, min_count)\u001B[0m\n\u001B[1;32m      1\u001B[0m \u001B[0;32mdef\u001B[0m \u001B[0mrec_user\u001B[0m\u001B[0;34m(\u001B[0m\u001B[0mlocation\u001B[0m\u001B[0;34m,\u001B[0m \u001B[0mage\u001B[0m\u001B[0;34m,\u001B[0m \u001B[0mdataframe\u001B[0m\u001B[0;34m,\u001B[0m \u001B[0mrating_dataframe\u001B[0m\u001B[0;34m,\u001B[0m \u001B[0mage_column_name\u001B[0m\u001B[0;34m=\u001B[0m\u001B[0;34m'Age'\u001B[0m\u001B[0;34m,\u001B[0m \u001B[0mlocation_column_name\u001B[0m\u001B[0;34m=\u001B[0m\u001B[0;34m'Location'\u001B[0m\u001B[0;34m,\u001B[0m \u001B[0muser_id_column_name\u001B[0m \u001B[0;34m=\u001B[0m \u001B[0;34m'User-ID'\u001B[0m\u001B[0;34m,\u001B[0m \u001B[0mtop_n\u001B[0m\u001B[0;34m=\u001B[0m\u001B[0;36m10\u001B[0m\u001B[0;34m,\u001B[0m \u001B[0mmin_count\u001B[0m\u001B[0;34m=\u001B[0m\u001B[0;36m2\u001B[0m\u001B[0;34m)\u001B[0m\u001B[0;34m:\u001B[0m\u001B[0;34m\u001B[0m\u001B[0;34m\u001B[0m\u001B[0m\n\u001B[0;32m----> 2\u001B[0;31m     \u001B[0mby_location\u001B[0m \u001B[0;34m=\u001B[0m \u001B[0mdataframe\u001B[0m\u001B[0;34m[\u001B[0m\u001B[0mdataframe\u001B[0m\u001B[0;34m[\u001B[0m\u001B[0mlocation_column_name\u001B[0m\u001B[0;34m]\u001B[0m\u001B[0;34m.\u001B[0m\u001B[0misin\u001B[0m\u001B[0;34m(\u001B[0m\u001B[0;34m[\u001B[0m\u001B[0mlocation\u001B[0m\u001B[0;34m]\u001B[0m\u001B[0;34m)\u001B[0m \u001B[0;34m|\u001B[0m \u001B[0mdataframe\u001B[0m\u001B[0;34m[\u001B[0m\u001B[0mage_column_name\u001B[0m\u001B[0;34m]\u001B[0m\u001B[0;34m.\u001B[0m\u001B[0misin\u001B[0m\u001B[0;34m(\u001B[0m\u001B[0;34m[\u001B[0m\u001B[0mage\u001B[0m\u001B[0;34m]\u001B[0m\u001B[0;34m)\u001B[0m\u001B[0;34m]\u001B[0m\u001B[0;34m[\u001B[0m\u001B[0muser_id_column_name\u001B[0m\u001B[0;34m]\u001B[0m\u001B[0;34m\u001B[0m\u001B[0;34m\u001B[0m\u001B[0m\n\u001B[0m\u001B[1;32m      3\u001B[0m     \u001B[0mrating_location\u001B[0m \u001B[0;34m=\u001B[0m \u001B[0mrating_dataframe\u001B[0m\u001B[0;34m[\u001B[0m\u001B[0mrating_dataframe\u001B[0m\u001B[0;34m[\u001B[0m\u001B[0muser_id_column_name\u001B[0m\u001B[0;34m]\u001B[0m\u001B[0;34m.\u001B[0m\u001B[0misin\u001B[0m\u001B[0;34m(\u001B[0m\u001B[0mby_location\u001B[0m\u001B[0;34m)\u001B[0m\u001B[0;34m]\u001B[0m\u001B[0;34m\u001B[0m\u001B[0;34m\u001B[0m\u001B[0m\n\u001B[1;32m      4\u001B[0m     \u001B[0;32mreturn\u001B[0m \u001B[0mgetTopItems\u001B[0m\u001B[0;34m(\u001B[0m\u001B[0mrating_location\u001B[0m\u001B[0;34m,\u001B[0m \u001B[0mtop_n\u001B[0m\u001B[0;34m=\u001B[0m\u001B[0mtop_n\u001B[0m\u001B[0;34m,\u001B[0m \u001B[0mmin_count\u001B[0m\u001B[0;34m=\u001B[0m\u001B[0mmin_count\u001B[0m\u001B[0;34m)\u001B[0m\u001B[0;34m\u001B[0m\u001B[0;34m\u001B[0m\u001B[0m\n",
      "\u001B[0;32m~/opt/anaconda3/lib/python3.9/site-packages/pandas/core/frame.py\u001B[0m in \u001B[0;36m__getitem__\u001B[0;34m(self, key)\u001B[0m\n\u001B[1;32m   3456\u001B[0m             \u001B[0;32mif\u001B[0m \u001B[0mself\u001B[0m\u001B[0;34m.\u001B[0m\u001B[0mcolumns\u001B[0m\u001B[0;34m.\u001B[0m\u001B[0mnlevels\u001B[0m \u001B[0;34m>\u001B[0m \u001B[0;36m1\u001B[0m\u001B[0;34m:\u001B[0m\u001B[0;34m\u001B[0m\u001B[0;34m\u001B[0m\u001B[0m\n\u001B[1;32m   3457\u001B[0m                 \u001B[0;32mreturn\u001B[0m \u001B[0mself\u001B[0m\u001B[0;34m.\u001B[0m\u001B[0m_getitem_multilevel\u001B[0m\u001B[0;34m(\u001B[0m\u001B[0mkey\u001B[0m\u001B[0;34m)\u001B[0m\u001B[0;34m\u001B[0m\u001B[0;34m\u001B[0m\u001B[0m\n\u001B[0;32m-> 3458\u001B[0;31m             \u001B[0mindexer\u001B[0m \u001B[0;34m=\u001B[0m \u001B[0mself\u001B[0m\u001B[0;34m.\u001B[0m\u001B[0mcolumns\u001B[0m\u001B[0;34m.\u001B[0m\u001B[0mget_loc\u001B[0m\u001B[0;34m(\u001B[0m\u001B[0mkey\u001B[0m\u001B[0;34m)\u001B[0m\u001B[0;34m\u001B[0m\u001B[0;34m\u001B[0m\u001B[0m\n\u001B[0m\u001B[1;32m   3459\u001B[0m             \u001B[0;32mif\u001B[0m \u001B[0mis_integer\u001B[0m\u001B[0;34m(\u001B[0m\u001B[0mindexer\u001B[0m\u001B[0;34m)\u001B[0m\u001B[0;34m:\u001B[0m\u001B[0;34m\u001B[0m\u001B[0;34m\u001B[0m\u001B[0m\n\u001B[1;32m   3460\u001B[0m                 \u001B[0mindexer\u001B[0m \u001B[0;34m=\u001B[0m \u001B[0;34m[\u001B[0m\u001B[0mindexer\u001B[0m\u001B[0;34m]\u001B[0m\u001B[0;34m\u001B[0m\u001B[0;34m\u001B[0m\u001B[0m\n",
      "\u001B[0;32m~/opt/anaconda3/lib/python3.9/site-packages/pandas/core/indexes/base.py\u001B[0m in \u001B[0;36mget_loc\u001B[0;34m(self, key, method, tolerance)\u001B[0m\n\u001B[1;32m   3361\u001B[0m                 \u001B[0;32mreturn\u001B[0m \u001B[0mself\u001B[0m\u001B[0;34m.\u001B[0m\u001B[0m_engine\u001B[0m\u001B[0;34m.\u001B[0m\u001B[0mget_loc\u001B[0m\u001B[0;34m(\u001B[0m\u001B[0mcasted_key\u001B[0m\u001B[0;34m)\u001B[0m\u001B[0;34m\u001B[0m\u001B[0;34m\u001B[0m\u001B[0m\n\u001B[1;32m   3362\u001B[0m             \u001B[0;32mexcept\u001B[0m \u001B[0mKeyError\u001B[0m \u001B[0;32mas\u001B[0m \u001B[0merr\u001B[0m\u001B[0;34m:\u001B[0m\u001B[0;34m\u001B[0m\u001B[0;34m\u001B[0m\u001B[0m\n\u001B[0;32m-> 3363\u001B[0;31m                 \u001B[0;32mraise\u001B[0m \u001B[0mKeyError\u001B[0m\u001B[0;34m(\u001B[0m\u001B[0mkey\u001B[0m\u001B[0;34m)\u001B[0m \u001B[0;32mfrom\u001B[0m \u001B[0merr\u001B[0m\u001B[0;34m\u001B[0m\u001B[0;34m\u001B[0m\u001B[0m\n\u001B[0m\u001B[1;32m   3364\u001B[0m \u001B[0;34m\u001B[0m\u001B[0m\n\u001B[1;32m   3365\u001B[0m         \u001B[0;32mif\u001B[0m \u001B[0mis_scalar\u001B[0m\u001B[0;34m(\u001B[0m\u001B[0mkey\u001B[0m\u001B[0;34m)\u001B[0m \u001B[0;32mand\u001B[0m \u001B[0misna\u001B[0m\u001B[0;34m(\u001B[0m\u001B[0mkey\u001B[0m\u001B[0;34m)\u001B[0m \u001B[0;32mand\u001B[0m \u001B[0;32mnot\u001B[0m \u001B[0mself\u001B[0m\u001B[0;34m.\u001B[0m\u001B[0mhasnans\u001B[0m\u001B[0;34m:\u001B[0m\u001B[0;34m\u001B[0m\u001B[0;34m\u001B[0m\u001B[0m\n",
      "\u001B[0;31mKeyError\u001B[0m: 'Location'"
     ]
    }
   ],
   "source": [
    "rec = rec_user(\"castellar del valles, barcelona, spain\", 20, bx_users, bx_books_ratings, top_n=10)"
   ],
   "metadata": {
    "collapsed": false,
    "pycharm": {
     "name": "#%%\n"
    }
   }
  },
  {
   "cell_type": "code",
   "execution_count": 620,
   "outputs": [
    {
     "data": {
      "text/plain": "           Book-Rating   id\nISBN                       \n451524934     9.800000  NaN\n679781587     9.750000  NaN\n875421180     9.333333  NaN\n345337662     9.333333  NaN\n345339711     9.333333  NaN\n140378278     9.000000  NaN\n316776963     8.750000  NaN\n671027344     8.714286  NaN\n440206154     8.666667  NaN\n440224764     8.666667  NaN",
      "text/html": "<div>\n<style scoped>\n    .dataframe tbody tr th:only-of-type {\n        vertical-align: middle;\n    }\n\n    .dataframe tbody tr th {\n        vertical-align: top;\n    }\n\n    .dataframe thead th {\n        text-align: right;\n    }\n</style>\n<table border=\"1\" class=\"dataframe\">\n  <thead>\n    <tr style=\"text-align: right;\">\n      <th></th>\n      <th>Book-Rating</th>\n      <th>id</th>\n    </tr>\n    <tr>\n      <th>ISBN</th>\n      <th></th>\n      <th></th>\n    </tr>\n  </thead>\n  <tbody>\n    <tr>\n      <th>451524934</th>\n      <td>9.800000</td>\n      <td>NaN</td>\n    </tr>\n    <tr>\n      <th>679781587</th>\n      <td>9.750000</td>\n      <td>NaN</td>\n    </tr>\n    <tr>\n      <th>875421180</th>\n      <td>9.333333</td>\n      <td>NaN</td>\n    </tr>\n    <tr>\n      <th>345337662</th>\n      <td>9.333333</td>\n      <td>NaN</td>\n    </tr>\n    <tr>\n      <th>345339711</th>\n      <td>9.333333</td>\n      <td>NaN</td>\n    </tr>\n    <tr>\n      <th>140378278</th>\n      <td>9.000000</td>\n      <td>NaN</td>\n    </tr>\n    <tr>\n      <th>316776963</th>\n      <td>8.750000</td>\n      <td>NaN</td>\n    </tr>\n    <tr>\n      <th>671027344</th>\n      <td>8.714286</td>\n      <td>NaN</td>\n    </tr>\n    <tr>\n      <th>440206154</th>\n      <td>8.666667</td>\n      <td>NaN</td>\n    </tr>\n    <tr>\n      <th>440224764</th>\n      <td>8.666667</td>\n      <td>NaN</td>\n    </tr>\n  </tbody>\n</table>\n</div>"
     },
     "execution_count": 620,
     "metadata": {},
     "output_type": "execute_result"
    }
   ],
   "source": [
    "rec"
   ],
   "metadata": {
    "collapsed": false,
    "pycharm": {
     "name": "#%%\n"
    }
   }
  },
  {
   "cell_type": "code",
   "execution_count": 587,
   "outputs": [
    {
     "name": "stdout",
     "output_type": "stream",
     "text": [
      "Something went wrong with Book-Rating\n",
      "Something went wrong with id\n"
     ]
    },
    {
     "data": {
      "text/plain": "<Figure size 1440x288 with 0 Axes>"
     },
     "metadata": {},
     "output_type": "display_data"
    }
   ],
   "source": [
    "show_rating(rec)"
   ],
   "metadata": {
    "collapsed": false,
    "pycharm": {
     "name": "#%%\n"
    }
   }
  },
  {
   "cell_type": "markdown",
   "source": [
    "### 2. На основе метода кластеризации похожих пользователей построить рекомендации (Слайд 27) - 3 балла\n",
    "\n",
    "Нужно топ-10 рекомендаций с самой высокой оценкой. Считаем среднюю оценку для каждой книги по кластеру и выводим топ-10 книг.\n"
   ],
   "metadata": {
    "collapsed": false,
    "pycharm": {
     "name": "#%% md\n"
    }
   }
  },
  {
   "cell_type": "code",
   "execution_count": 588,
   "outputs": [],
   "source": [
    "le = LabelEncoder()\n",
    "# bx_books_ratings['ISBN'] = le.fit_transform(bx_books_ratings['ISBN'])\n",
    "# bx_books['ISBN'] = le.fit_transform(bx_books['ISBN'])"
   ],
   "metadata": {
    "collapsed": false,
    "pycharm": {
     "name": "#%%\n"
    }
   }
  },
  {
   "cell_type": "code",
   "execution_count": 589,
   "outputs": [],
   "source": [
    "bx_users[\"Location\"] = bx_users['Location'].str.split(\",\")"
   ],
   "metadata": {
    "collapsed": false,
    "pycharm": {
     "name": "#%%\n"
    }
   }
  },
  {
   "cell_type": "code",
   "execution_count": 590,
   "outputs": [],
   "source": [
    "bx_users = bx_users.drop(bx_users[bx_users['Location'].apply(lambda x: len(x) <= 2)].index)"
   ],
   "metadata": {
    "collapsed": false,
    "pycharm": {
     "name": "#%%\n"
    }
   }
  },
  {
   "cell_type": "code",
   "execution_count": 591,
   "outputs": [],
   "source": [
    "location = bx_users['Location']"
   ],
   "metadata": {
    "collapsed": false,
    "pycharm": {
     "name": "#%%\n"
    }
   }
  },
  {
   "cell_type": "code",
   "execution_count": 592,
   "outputs": [],
   "source": [
    "city = [location.iloc[i][0] for i in range(location.shape[0])]\n",
    "state = [location.iloc[i][1] for i in range(location.shape[0])]\n",
    "country = [location.iloc[i][2] for i in range(location.shape[0])]"
   ],
   "metadata": {
    "collapsed": false,
    "pycharm": {
     "name": "#%%\n"
    }
   }
  },
  {
   "cell_type": "code",
   "execution_count": 593,
   "outputs": [],
   "source": [
    "bx_users[\"city\"] = pd.Series(city)\n",
    "bx_users[\"state\"] = pd.Series(state)\n",
    "bx_users[\"country\"] = pd.Series(city)"
   ],
   "metadata": {
    "collapsed": false,
    "pycharm": {
     "name": "#%%\n"
    }
   }
  },
  {
   "cell_type": "code",
   "execution_count": 594,
   "outputs": [],
   "source": [
    "bx_users = bx_users.drop(\"Location\", axis=1)"
   ],
   "metadata": {
    "collapsed": false,
    "pycharm": {
     "name": "#%%\n"
    }
   }
  },
  {
   "cell_type": "code",
   "execution_count": 595,
   "outputs": [],
   "source": [
    "city_encoder = LabelEncoder()\n",
    "state_encoder = LabelEncoder()\n",
    "country_encoder = LabelEncoder()\n",
    "bx_users[\"city\"] = city_encoder.fit_transform(bx_users[\"city\"])\n",
    "bx_users[\"state\"] = state_encoder.fit_transform(bx_users[\"state\"])\n",
    "bx_users[\"country\"] = country_encoder.fit_transform(bx_users[\"country\"])"
   ],
   "metadata": {
    "collapsed": false,
    "pycharm": {
     "name": "#%%\n"
    }
   }
  },
  {
   "cell_type": "code",
   "execution_count": 596,
   "outputs": [],
   "source": [
    "bx_users[\"Age\"] = bx_users[\"Age\"].fillna(bx_users[\"Age\"].median())"
   ],
   "metadata": {
    "collapsed": false,
    "pycharm": {
     "name": "#%%\n"
    }
   }
  },
  {
   "cell_type": "code",
   "execution_count": 597,
   "outputs": [
    {
     "data": {
      "text/plain": "KMeans(n_clusters=10)"
     },
     "execution_count": 597,
     "metadata": {},
     "output_type": "execute_result"
    }
   ],
   "source": [
    "n_clusters = 10\n",
    "users_kmeans = bx_users.drop(\"User-ID\", axis=1)\n",
    "kmeans = KMeans(n_clusters=n_clusters)\n",
    "kmeans.fit(users_kmeans)"
   ],
   "metadata": {
    "collapsed": false,
    "pycharm": {
     "name": "#%%\n"
    }
   }
  },
  {
   "cell_type": "code",
   "execution_count": 598,
   "outputs": [
    {
     "data": {
      "text/plain": "array([31102, 27768, 26734, 29228, 25888, 26240, 24292, 24515, 31427,\n       31660])"
     },
     "execution_count": 598,
     "metadata": {},
     "output_type": "execute_result"
    }
   ],
   "source": [
    "np.bincount(kmeans.labels_)"
   ],
   "metadata": {
    "collapsed": false,
    "pycharm": {
     "name": "#%%\n"
    }
   }
  },
  {
   "cell_type": "code",
   "execution_count": 599,
   "outputs": [],
   "source": [
    "claster_numbers = kmeans.labels_\n",
    "bx_users[\"claster\"] = pd.Series(claster_numbers)"
   ],
   "metadata": {
    "collapsed": false,
    "pycharm": {
     "name": "#%%\n"
    }
   }
  },
  {
   "cell_type": "code",
   "execution_count": 600,
   "outputs": [],
   "source": [
    "def user_recomendation(user):\n",
    "    cluster = kmeans.predict([user])\n",
    "    cluster_ids = bx_users[bx_users[\"claster\"] == cluster[0]]\n",
    "    cluster_rating = bx_books_ratings[bx_books_ratings[\"User-ID\"].isin(cluster_ids[\"User-ID\"])]\n",
    "    return getTopItems(cluster_rating)"
   ],
   "metadata": {
    "collapsed": false,
    "pycharm": {
     "name": "#%%\n"
    }
   }
  },
  {
   "cell_type": "code",
   "execution_count": 601,
   "outputs": [],
   "source": [
    "def rec_user_cluster(city, state, country, age):\n",
    "    user = [city_encoder.transform([city])[0], state_encoder.transform([state])[0], country_encoder.transform([country])[0], age]\n",
    "    return user_recomendation(user)"
   ],
   "metadata": {
    "collapsed": false,
    "pycharm": {
     "name": "#%%\n"
    }
   }
  },
  {
   "cell_type": "code",
   "execution_count": 602,
   "outputs": [],
   "source": [
    "cluster_books = rec_user_cluster(\"castellar del valles\", \" barcelona\", \"spain\", 20)"
   ],
   "metadata": {
    "collapsed": false,
    "pycharm": {
     "name": "#%%\n"
    }
   }
  },
  {
   "cell_type": "code",
   "execution_count": 603,
   "outputs": [
    {
     "name": "stdout",
     "output_type": "stream",
     "text": [
      "Something went wrong with nan\n",
      "Something went wrong with nan\n",
      "Something went wrong with nan\n",
      "Something went wrong with nan\n",
      "Something went wrong with nan\n",
      "Something went wrong with nan\n",
      "Something went wrong with nan\n",
      "Something went wrong with nan\n",
      "Something went wrong with nan\n",
      "Something went wrong with nan\n"
     ]
    },
    {
     "data": {
      "text/plain": "<Figure size 1440x288 with 0 Axes>"
     },
     "metadata": {},
     "output_type": "display_data"
    }
   ],
   "source": [
    "show_rating(cluster_books[\"id\"])"
   ],
   "metadata": {
    "collapsed": false,
    "pycharm": {
     "name": "#%%\n"
    }
   }
  },
  {
   "cell_type": "markdown",
   "source": [
    "### 3. Совстречаемость - 3 балла\n",
    "\n",
    "В совстречаемости также учитывать оценки. Вес пары книг встретившихся у пользователя - полусумма их оценок."
   ],
   "metadata": {
    "collapsed": false,
    "pycharm": {
     "name": "#%% md\n"
    }
   }
  },
  {
   "cell_type": "code",
   "execution_count": null,
   "outputs": [],
   "source": [
    "class Recomendations():\n",
    "    def __init__(self, Int):\n",
    "        # Создаём словарь для того, чтобы по product_id возвращать url товара\n",
    "        self.product_id_to_url = {}\n",
    "        for i in Int[[\"product_id\", \"picture_url\"]].drop_duplicates().values:\n",
    "            self.product_id_to_url[i[0]] = i[1]\n",
    "        self.interactions = Int\n",
    "\n",
    "    def coocurrency_count(self):\n",
    "        Int = self.interactions[[\"vid\", \"product_id\"]].drop_duplicates()\n",
    "        # Для каждого пользователя собираем товары, с которыми он взамиодействовал\n",
    "        user_products = Int.groupby([\"vid\"])[\"product_id\"].apply(list).reset_index()\n",
    "        # Считаем число товаров, с которыми взаимодействовал каждый пользователь и записываем в колонку prod_num\n",
    "        product_num = [len(i) for i in user_products[\"product_id\"]]\n",
    "        user_products[\"prod_num\"] = product_num\n",
    "        # Фильтруем пользователей, взаимодействовавших с одним товаром\n",
    "        user_products = user_products[user_products[\"prod_num\"] > 1]\n",
    "\n",
    "        # Заводим словарь под товары\n",
    "        cooc = {}\n",
    "        #print(user_products)\n",
    "        for i in tqdm.tqdm_notebook(user_products.values):\n",
    "            for j in range(len(i[1])):\n",
    "                for k in range(len(i[1])):\n",
    "                    if j != k:\n",
    "                        jRate = interactions[(interactions['product_id'] == i[1][j]) & (interactions['vid'] == i[0]) ]['Book-Rating']\n",
    "                        kRate = interactions[(interactions['product_id'] == i[1][k]) & (interactions['vid'] == i[0]) ]['Book-Rating']\n",
    "                        try:\n",
    "                            cooc[str(i[1][j]) + \"_\" + str(i[1][k])] += (jRate+kRate)/2\n",
    "                        except:\n",
    "                            cooc[str(i[1][j]) + \"_\" + str(i[1][k])] = (jRate+kRate)/2\n",
    "        cooc_list = []\n",
    "        for i, j in cooc.items():\n",
    "            # Если товары встетились вместе больше одного раза, то добавляем в список\n",
    "            if j > 1:\n",
    "                cooc_list.append(i.split(\"_\") + [j])\n",
    "        self.cooc_rec = pd.DataFrame(cooc_list, columns=[\"item1\", \"item2\", \"measure\"])\n",
    "\n",
    "    def get_rec(self, i, show=False):\n",
    "        recs = self.cooc_rec[self.cooc_rec[\"item1\"] == str(i)]\n",
    "            .sort_values(\"measure\", ascending=False)\n",
    "            .head(10)\n",
    "        print(u\"Для товара\")\n",
    "        rec_imaging([i], self.product_id_to_url)\n",
    "        print(u\"Такие рекомендации\")\n",
    "        rec_imaging(recs[\"item2\"].values.astype(int), self.product_id_to_url,\n",
    "                    recs[\"measure\"].values.astype(int))"
   ],
   "metadata": {
    "collapsed": false,
    "pycharm": {
     "name": "#%%\n"
    }
   }
  },
  {
   "cell_type": "code",
   "execution_count": null,
   "outputs": [],
   "source": [
    "cooc_rec = Recomendations(interactions)\n",
    "cooc_rec.coocurrency_count()"
   ],
   "metadata": {
    "collapsed": false,
    "pycharm": {
     "name": "#%%\n"
    }
   }
  },
  {
   "cell_type": "markdown",
   "source": [
    "### 4. Коллаборативная фильтрация - 3 балла\n",
    "\n",
    "Коллаборативную фильтрацию реализовывать как на слайде 51 презентации, посоветовав каждому пользователю топ-10 книг с самой высокой оценкой. Сделать рекомендации User-based и Item-based и сравнить.\n",
    "\n",
    "Если совсем сложно - можно сделать как в семинарской части, поставив оценку \"0\", если рейтинг < 5 и \"1\" - в противном случае. Тогда максимум за это - 1 балл. Реализовать U2I и I2I рекомендации."
   ],
   "metadata": {
    "collapsed": false,
    "pycharm": {
     "name": "#%% md\n"
    }
   }
  },
  {
   "cell_type": "code",
   "execution_count": 604,
   "outputs": [],
   "source": [
    "books_meets = bx_books_ratings.groupby(\"ISBN\")[\"User-ID\"].count().reset_index().rename(columns={\"User-ID\": \"user_num\"})\n",
    "user_meets = bx_books_ratings.groupby(\"User-ID\")[\"ISBN\"].count().reset_index().rename(columns={\"ISBN\": \"books_num\"})"
   ],
   "metadata": {
    "collapsed": false,
    "pycharm": {
     "name": "#%%\n"
    }
   }
  },
  {
   "cell_type": "code",
   "execution_count": 605,
   "outputs": [],
   "source": [
    "interactions = bx_books_ratings.merge(books_meets, on=[\"ISBN\"]).merge(user_meets, on=[\"User-ID\"])"
   ],
   "metadata": {
    "collapsed": false,
    "pycharm": {
     "name": "#%%\n"
    }
   }
  },
  {
   "cell_type": "code",
   "execution_count": 606,
   "outputs": [],
   "source": [
    "interactions = interactions[(interactions[\"user_num\"] > 5) &\n",
    "                            (interactions[\"books_num\"] > 5) &\n",
    "                            (interactions[\"books_num\"] < 200)]"
   ],
   "metadata": {
    "collapsed": false,
    "pycharm": {
     "name": "#%%\n"
    }
   }
  },
  {
   "cell_type": "code",
   "execution_count": 607,
   "outputs": [],
   "source": [
    "interactions = interactions.merge(bx_books[[\"ISBN\", \"Image-URL-M\", \"Book-Title\"]].rename(\n",
    "    columns={\"Image-URL-M\": \"picture_url\"}), on=[\"ISBN\"])"
   ],
   "metadata": {
    "collapsed": false,
    "pycharm": {
     "name": "#%%\n"
    }
   }
  },
  {
   "cell_type": "code",
   "execution_count": 608,
   "outputs": [
    {
     "data": {
      "text/plain": "       User-ID        ISBN  Book-Rating  user_num  books_num  \\\n0        86583  3404139178            9         8         18   \n1       132500  3404139178           10         8         43   \n2        66483  3404139178           10         8         83   \n3       276866  3404139178            9         8         11   \n4       106534  3404139178            6         8          6   \n...        ...         ...          ...       ...        ...   \n12631   183213  3499137909           10         7          8   \n12632   140226  3499137909            5         7         10   \n12633   206652  1860465811            9         7         10   \n12634    27100  3442760003            8         7          6   \n12635   223525  1588720284            8         6         13   \n\n                                             picture_url  \\\n0      http://images.amazon.com/images/P/3404139178.0...   \n1      http://images.amazon.com/images/P/3404139178.0...   \n2      http://images.amazon.com/images/P/3404139178.0...   \n3      http://images.amazon.com/images/P/3404139178.0...   \n4      http://images.amazon.com/images/P/3404139178.0...   \n...                                                  ...   \n12631  http://images.amazon.com/images/P/3499137909.0...   \n12632  http://images.amazon.com/images/P/3499137909.0...   \n12633  http://images.amazon.com/images/P/1860465811.0...   \n12634  http://images.amazon.com/images/P/3442760003.0...   \n12635  http://images.amazon.com/images/P/1588720284.0...   \n\n                                              Book-Title  \n0            Das Lacheln der Fortuna: Historischer Roman  \n1            Das Lacheln der Fortuna: Historischer Roman  \n2            Das Lacheln der Fortuna: Historischer Roman  \n3            Das Lacheln der Fortuna: Historischer Roman  \n4            Das Lacheln der Fortuna: Historischer Roman  \n...                                                  ...  \n12631          Der Plan von der Abschaffung des Dunkels.  \n12632          Der Plan von der Abschaffung des Dunkels.  \n12633                             Wind-Up Bird Chronicle  \n12634                                        Liebesleben  \n12635  Why Your Life Sucks:  And What You Can Do Abou...  \n\n[12636 rows x 7 columns]",
      "text/html": "<div>\n<style scoped>\n    .dataframe tbody tr th:only-of-type {\n        vertical-align: middle;\n    }\n\n    .dataframe tbody tr th {\n        vertical-align: top;\n    }\n\n    .dataframe thead th {\n        text-align: right;\n    }\n</style>\n<table border=\"1\" class=\"dataframe\">\n  <thead>\n    <tr style=\"text-align: right;\">\n      <th></th>\n      <th>User-ID</th>\n      <th>ISBN</th>\n      <th>Book-Rating</th>\n      <th>user_num</th>\n      <th>books_num</th>\n      <th>picture_url</th>\n      <th>Book-Title</th>\n    </tr>\n  </thead>\n  <tbody>\n    <tr>\n      <th>0</th>\n      <td>86583</td>\n      <td>3404139178</td>\n      <td>9</td>\n      <td>8</td>\n      <td>18</td>\n      <td>http://images.amazon.com/images/P/3404139178.0...</td>\n      <td>Das Lacheln der Fortuna: Historischer Roman</td>\n    </tr>\n    <tr>\n      <th>1</th>\n      <td>132500</td>\n      <td>3404139178</td>\n      <td>10</td>\n      <td>8</td>\n      <td>43</td>\n      <td>http://images.amazon.com/images/P/3404139178.0...</td>\n      <td>Das Lacheln der Fortuna: Historischer Roman</td>\n    </tr>\n    <tr>\n      <th>2</th>\n      <td>66483</td>\n      <td>3404139178</td>\n      <td>10</td>\n      <td>8</td>\n      <td>83</td>\n      <td>http://images.amazon.com/images/P/3404139178.0...</td>\n      <td>Das Lacheln der Fortuna: Historischer Roman</td>\n    </tr>\n    <tr>\n      <th>3</th>\n      <td>276866</td>\n      <td>3404139178</td>\n      <td>9</td>\n      <td>8</td>\n      <td>11</td>\n      <td>http://images.amazon.com/images/P/3404139178.0...</td>\n      <td>Das Lacheln der Fortuna: Historischer Roman</td>\n    </tr>\n    <tr>\n      <th>4</th>\n      <td>106534</td>\n      <td>3404139178</td>\n      <td>6</td>\n      <td>8</td>\n      <td>6</td>\n      <td>http://images.amazon.com/images/P/3404139178.0...</td>\n      <td>Das Lacheln der Fortuna: Historischer Roman</td>\n    </tr>\n    <tr>\n      <th>...</th>\n      <td>...</td>\n      <td>...</td>\n      <td>...</td>\n      <td>...</td>\n      <td>...</td>\n      <td>...</td>\n      <td>...</td>\n    </tr>\n    <tr>\n      <th>12631</th>\n      <td>183213</td>\n      <td>3499137909</td>\n      <td>10</td>\n      <td>7</td>\n      <td>8</td>\n      <td>http://images.amazon.com/images/P/3499137909.0...</td>\n      <td>Der Plan von der Abschaffung des Dunkels.</td>\n    </tr>\n    <tr>\n      <th>12632</th>\n      <td>140226</td>\n      <td>3499137909</td>\n      <td>5</td>\n      <td>7</td>\n      <td>10</td>\n      <td>http://images.amazon.com/images/P/3499137909.0...</td>\n      <td>Der Plan von der Abschaffung des Dunkels.</td>\n    </tr>\n    <tr>\n      <th>12633</th>\n      <td>206652</td>\n      <td>1860465811</td>\n      <td>9</td>\n      <td>7</td>\n      <td>10</td>\n      <td>http://images.amazon.com/images/P/1860465811.0...</td>\n      <td>Wind-Up Bird Chronicle</td>\n    </tr>\n    <tr>\n      <th>12634</th>\n      <td>27100</td>\n      <td>3442760003</td>\n      <td>8</td>\n      <td>7</td>\n      <td>6</td>\n      <td>http://images.amazon.com/images/P/3442760003.0...</td>\n      <td>Liebesleben</td>\n    </tr>\n    <tr>\n      <th>12635</th>\n      <td>223525</td>\n      <td>1588720284</td>\n      <td>8</td>\n      <td>6</td>\n      <td>13</td>\n      <td>http://images.amazon.com/images/P/1588720284.0...</td>\n      <td>Why Your Life Sucks:  And What You Can Do Abou...</td>\n    </tr>\n  </tbody>\n</table>\n<p>12636 rows × 7 columns</p>\n</div>"
     },
     "execution_count": 608,
     "metadata": {},
     "output_type": "execute_result"
    }
   ],
   "source": [
    "interactions"
   ],
   "metadata": {
    "collapsed": false,
    "pycharm": {
     "name": "#%%\n"
    }
   }
  },
  {
   "cell_type": "code",
   "execution_count": 609,
   "outputs": [],
   "source": [
    "interactions[\"product_id\"] = le.fit_transform(interactions[\"ISBN\"])\n",
    "userLe = LabelEncoder()\n",
    "userLe.fit(interactions[\"User-ID\"])\n",
    "interactions[\"vid\"] = userLe.transform(interactions[\"User-ID\"])"
   ],
   "metadata": {
    "collapsed": false,
    "pycharm": {
     "name": "#%%\n"
    }
   }
  },
  {
   "cell_type": "code",
   "execution_count": 610,
   "outputs": [],
   "source": [
    "csr_rates = coo_matrix((interactions[\"Book-Rating\"], (interactions[\"vid\"], interactions[\"product_id\"])),\n",
    "                       shape=(len(set(interactions[\"vid\"])), len(set(interactions[\"product_id\"]))))"
   ],
   "metadata": {
    "collapsed": false,
    "pycharm": {
     "name": "#%%\n"
    }
   }
  },
  {
   "cell_type": "code",
   "execution_count": 611,
   "outputs": [],
   "source": [
    "csr_array = csr_rates.toarray()"
   ],
   "metadata": {
    "collapsed": false,
    "pycharm": {
     "name": "#%%\n"
    }
   }
  },
  {
   "cell_type": "code",
   "execution_count": 612,
   "outputs": [],
   "source": [
    "id_book = interactions.drop_duplicates([\"Book-Title\"])"
   ],
   "metadata": {
    "collapsed": false,
    "pycharm": {
     "name": "#%%\n"
    }
   }
  },
  {
   "cell_type": "code",
   "execution_count": 613,
   "outputs": [],
   "source": [
    "class Colloborative():\n",
    "    def __init__(self):\n",
    "        self.csr_rates = csr_rates\n",
    "\n",
    "    def user_based(self, idx):\n",
    "        user_rates = self.csr_rates.getrow(idx).toarray()[0]\n",
    "        watched_items = np.where(user_rates != 0)[0]\n",
    "        # считаем косинус между пользователем idx и всеми пользователями\n",
    "        metrics = cosine_similarity([user_rates], self.csr_rates).reshape(-1, 1)\n",
    "        # домножаем оценки пользователя на коэффициент похожести\n",
    "        rates = csr_matrix.multiply(self.csr_rates.copy(), metrics)\n",
    "        # чтобы не рекомендовать уже просмотренные - зануляем веса просмотренных\n",
    "        total_rate = (1 - user_rates.astype(bool)) * np.array(np.sum(rates, axis=0))[0]\n",
    "        # печатаем рекомендации\n",
    "        self.get_rec(watched_items, np.arange(self.csr_rates.shape[1])[np.argsort(total_rate)[::-1][:10]],\n",
    "                     np.sort(total_rate)[::-1][:10])\n",
    "\n",
    "    def item_based(self, idx):\n",
    "        item_rates = self.csr_rates.getcol(idx).toarray().reshape(1, -1)\n",
    "        # считаем косинус между товаром idx и всеми пользователями\n",
    "        metrics = cosine_similarity(item_rates, self.csr_rates.T).reshape(-1, 1)\n",
    "        # домножаем оценки пользователя на коэффициент похожести\n",
    "        rates = csr_matrix.multiply(self.csr_rates.T.copy(), metrics)\n",
    "        total_rate = np.array(np.sum(rates, axis=1)).ravel()\n",
    "        # печатаем рекомендации\n",
    "        self.get_rec([idx], np.arange(self.csr_rates.shape[1])[np.argsort(total_rate)[::-1][:10]],\n",
    "                     np.sort(total_rate)[::-1][:10])\n",
    "\n",
    "    def get_rec(self, watched, recs, measure):\n",
    "        print(u\"Для таких товаров\")\n",
    "        # print([i for i in watched])\n",
    "        print([i for i in watched])\n",
    "        in_urls = id_book[id_book[\"product_id\"].isin(watched)][\"Book-Title\"]\n",
    "        print([in_urls.iloc[i] for i in range(in_urls.shape[0])])\n",
    "        print(u\"Такие рекомендации\")\n",
    "        print([i for i in recs])\n",
    "        out_urls = id_book[id_book[\"product_id\"].isin(recs)][\"Book-Title\"]\n",
    "        print([out_urls.iloc[i] for i in range(out_urls.shape[0])])\n",
    "        show_rating(out_urls)"
   ],
   "metadata": {
    "collapsed": false,
    "pycharm": {
     "name": "#%%\n"
    }
   }
  },
  {
   "cell_type": "code",
   "execution_count": 614,
   "outputs": [],
   "source": [
    "col = Colloborative()"
   ],
   "metadata": {
    "collapsed": false,
    "pycharm": {
     "name": "#%%\n"
    }
   }
  },
  {
   "cell_type": "code",
   "execution_count": 615,
   "outputs": [
    {
     "data": {
      "text/plain": "      User-ID        ISBN  Book-Rating  user_num  books_num  \\\n6665   143163  043936213X           10        44         89   \n\n                                            picture_url  \\\n6665  http://images.amazon.com/images/P/043936213X.0...   \n\n                                          Book-Title  product_id   vid  \n6665  Harry Potter and the Sorcerer's Stone (Book 1)         328  3239  ",
      "text/html": "<div>\n<style scoped>\n    .dataframe tbody tr th:only-of-type {\n        vertical-align: middle;\n    }\n\n    .dataframe tbody tr th {\n        vertical-align: top;\n    }\n\n    .dataframe thead th {\n        text-align: right;\n    }\n</style>\n<table border=\"1\" class=\"dataframe\">\n  <thead>\n    <tr style=\"text-align: right;\">\n      <th></th>\n      <th>User-ID</th>\n      <th>ISBN</th>\n      <th>Book-Rating</th>\n      <th>user_num</th>\n      <th>books_num</th>\n      <th>picture_url</th>\n      <th>Book-Title</th>\n      <th>product_id</th>\n      <th>vid</th>\n    </tr>\n  </thead>\n  <tbody>\n    <tr>\n      <th>6665</th>\n      <td>143163</td>\n      <td>043936213X</td>\n      <td>10</td>\n      <td>44</td>\n      <td>89</td>\n      <td>http://images.amazon.com/images/P/043936213X.0...</td>\n      <td>Harry Potter and the Sorcerer's Stone (Book 1)</td>\n      <td>328</td>\n      <td>3239</td>\n    </tr>\n  </tbody>\n</table>\n</div>"
     },
     "execution_count": 615,
     "metadata": {},
     "output_type": "execute_result"
    }
   ],
   "source": [
    "id_book[id_book[\"Book-Title\"] == \"Harry Potter and the Sorcerer's Stone (Book 1)\"]"
   ],
   "metadata": {
    "collapsed": false,
    "pycharm": {
     "name": "#%%\n"
    }
   }
  },
  {
   "cell_type": "code",
   "execution_count": 616,
   "outputs": [
    {
     "name": "stdout",
     "output_type": "stream",
     "text": [
      "Для таких товаров\n",
      "[328]\n",
      "[\"Harry Potter and the Sorcerer's Stone (Book 1)\"]\n",
      "Такие рекомендации\n",
      "[328, 327, 636, 844, 36, 692, 855, 683, 135, 434]\n",
      "['Harry Potter and the Order of the Phoenix (Book 5)', 'All I Really Need to Know', \"The No. 1 Ladies' Detective Agency (Today Show Book Club #8)\", 'Morality for Beautiful Girls (No.1 Ladies Detective Agency)', \"The Lost Boy: A Foster Child's Search for the Love of a Family\", 'A Child Called \\\\It\\\\\": One Child\\'s Courage to Survive\"', 'Anne of Green Gables (Anne of Green Gables Novels (Paperback))', 'The World According to Garp', \"Harry Potter and the Sorcerer's Stone (Book 1)\", 'The Perfect Storm : A True Story of Men Against the Sea']\n",
      "Something went wrong with Harry Potter and the Order of the Phoenix (Book 5)\n",
      "Something went wrong with All I Really Need to Know\n",
      "Something went wrong with The No. 1 Ladies' Detective Agency (Today Show Book Club #8)\n",
      "Something went wrong with Morality for Beautiful Girls (No.1 Ladies Detective Agency)\n",
      "Something went wrong with The Lost Boy: A Foster Child's Search for the Love of a Family\n",
      "Something went wrong with A Child Called \\It\\\": One Child's Courage to Survive\"\n",
      "Something went wrong with Anne of Green Gables (Anne of Green Gables Novels (Paperback))\n",
      "Something went wrong with The World According to Garp\n",
      "Something went wrong with Harry Potter and the Sorcerer's Stone (Book 1)\n",
      "Something went wrong with The Perfect Storm : A True Story of Men Against the Sea\n"
     ]
    },
    {
     "data": {
      "text/plain": "<Figure size 1440x288 with 0 Axes>"
     },
     "metadata": {},
     "output_type": "display_data"
    }
   ],
   "source": [
    "col.item_based(328)"
   ],
   "metadata": {
    "collapsed": false,
    "pycharm": {
     "name": "#%%\n"
    }
   }
  },
  {
   "cell_type": "code",
   "execution_count": 617,
   "outputs": [
    {
     "name": "stdout",
     "output_type": "stream",
     "text": [
      "Для таких товаров\n",
      "[327, 328, 636, 833, 844, 852]\n",
      "['Harry Potter and the Order of the Phoenix (Book 5)', 'Chicken Soup for the Teenage Soul (Chicken Soup for the Soul)', 'All I Really Need to Know', 'A Child Called \\\\It\\\\\": One Child\\'s Courage to Survive\"', \"Life's Little Instruction Book; Volume II\", \"Harry Potter and the Sorcerer's Stone (Book 1)\"]\n",
      "Такие рекомендации\n",
      "[483, 855, 336, 692, 831, 859, 840, 94, 951, 365]\n",
      "[\"Harry Potter and the Sorcerer's Stone (Harry Potter (Paperback))\", 'The Firm', 'Chicken Soup for the Soul (Chicken Soup for the Soul)', \"The Color of Water: A Black Man's Tribute to His White Mother\", 'The Bridges of Madison County', \"The No. 1 Ladies' Detective Agency (Today Show Book Club #8)\", 'Chicken Soup for the Teenage Soul II (Chicken Soup for the Soul Series)', \"The Lost Boy: A Foster Child's Search for the Love of a Family\", 'Chocolat', \"Life's Little Instruction Book (Life's Little Instruction Books (Paperback))\"]\n",
      "Something went wrong with Harry Potter and the Sorcerer's Stone (Harry Potter (Paperback))\n",
      "Something went wrong with The Firm\n",
      "Something went wrong with Chicken Soup for the Soul (Chicken Soup for the Soul)\n",
      "Something went wrong with The Color of Water: A Black Man's Tribute to His White Mother\n",
      "Something went wrong with The Bridges of Madison County\n",
      "Something went wrong with The No. 1 Ladies' Detective Agency (Today Show Book Club #8)\n",
      "Something went wrong with Chicken Soup for the Teenage Soul II (Chicken Soup for the Soul Series)\n",
      "Something went wrong with The Lost Boy: A Foster Child's Search for the Love of a Family\n",
      "Something went wrong with Chocolat\n",
      "Something went wrong with Life's Little Instruction Book (Life's Little Instruction Books (Paperback))\n"
     ]
    },
    {
     "data": {
      "text/plain": "<Figure size 1440x288 with 0 Axes>"
     },
     "metadata": {},
     "output_type": "display_data"
    }
   ],
   "source": [
    "col.user_based(3239)"
   ],
   "metadata": {
    "collapsed": false,
    "pycharm": {
     "name": "#%%\n"
    }
   }
  },
  {
   "cell_type": "markdown",
   "source": [],
   "metadata": {
    "collapsed": false
   }
  },
  {
   "cell_type": "code",
   "execution_count": 618,
   "outputs": [],
   "source": [
    "#ВСЕ С КАЙФОМ"
   ],
   "metadata": {
    "collapsed": false,
    "pycharm": {
     "name": "#%%\n"
    }
   }
  }
 ],
 "metadata": {
  "kernelspec": {
   "display_name": "Python 3",
   "language": "python",
   "name": "python3"
  },
  "language_info": {
   "codemirror_mode": {
    "name": "ipython",
    "version": 2
   },
   "file_extension": ".py",
   "mimetype": "text/x-python",
   "name": "python",
   "nbconvert_exporter": "python",
   "pygments_lexer": "ipython2",
   "version": "2.7.6"
  }
 },
 "nbformat": 4,
 "nbformat_minor": 0
}