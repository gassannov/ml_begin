{
 "cells": [
  {
   "cell_type": "code",
   "execution_count": 165,
   "metadata": {
    "collapsed": true
   },
   "outputs": [],
   "source": [
    "import numpy as np\n",
    "import pandas as pd\n",
    "from sklearn.linear_model import Lasso\n",
    "from sklearn.linear_model import LogisticRegression\n",
    "from sklearn.neighbors import KNeighborsClassifier\n",
    "from sklearn.metrics import mean_absolute_error\n",
    "from sklearn.ensemble import RandomForestRegressor\n",
    "from sklearn.ensemble import BaggingRegressor\n",
    "from sklearn.naive_bayes import GaussianNB\n",
    "from sklearn.model_selection import train_test_split\n",
    "from sklearn.ensemble import HistGradientBoostingRegressor\n",
    "from sklearn.metrics import roc_auc_score\n",
    "import seaborn as sns\n",
    "import xgboost as xgb\n",
    "import matplotlib.pyplot as plt\n",
    "from lightgbm import LGBMRegressor, LGBMClassifier\n",
    "from sklearn.preprocessing import StandardScaler"
   ]
  },
  {
   "cell_type": "code",
   "execution_count": 177,
   "outputs": [],
   "source": [
    "trainDF = pd.read_csv(\"Train.csv\")\n",
    "testDF = pd.read_csv(\"Test.csv\")"
   ],
   "metadata": {
    "collapsed": false,
    "pycharm": {
     "name": "#%%\n"
    }
   }
  },
  {
   "cell_type": "code",
   "execution_count": 178,
   "outputs": [],
   "source": [
    "trainDF.date = pd.to_datetime(trainDF.date)\n",
    "years = pd.DatetimeIndex(trainDF.date).year\n",
    "months = pd.DatetimeIndex(trainDF.date).month\n",
    "trainDF['year'] = years\n",
    "trainDF['month'] = months\n",
    "trainDF = trainDF.drop(['date'], axis=1)\n",
    "testDF['year'] = pd.DatetimeIndex(testDF.date).year\n",
    "testDF['months'] = pd.DatetimeIndex(testDF.date).month\n",
    "testDF = testDF.drop(['date'], axis=1)"
   ],
   "metadata": {
    "collapsed": false,
    "pycharm": {
     "name": "#%%\n"
    }
   }
  },
  {
   "cell_type": "code",
   "execution_count": 179,
   "outputs": [
    {
     "data": {
      "text/plain": "100000"
     },
     "execution_count": 179,
     "metadata": {},
     "output_type": "execute_result"
    }
   ],
   "source": [
    "trainDF = trainDF.drop(['g_lift'], axis=1)\n",
    "trainDF = trainDF.drop(['kw9'], axis=1)\n",
    "trainDF = trainDF.drop(['kw8'], axis=1)\n",
    "trainDF = trainDF.fillna(trainDF.mean())\n",
    "testDF = testDF.drop(['g_lift'], axis=1)\n",
    "testDF = testDF.drop(['kw9'], axis=1)\n",
    "testDF = testDF.drop(['kw8'], axis=1)\n",
    "testDF = testDF.fillna(testDF.mean())\n",
    "len(trainDF)"
   ],
   "metadata": {
    "collapsed": false,
    "pycharm": {
     "name": "#%%\n"
    }
   }
  },
  {
   "cell_type": "code",
   "execution_count": 180,
   "outputs": [],
   "source": [
    "# fig, ax = plt.subplots(figsize=(15,15))\n",
    "# corrM = trainDF.corr()\n",
    "# sns.heatmap(corrM)"
   ],
   "metadata": {
    "collapsed": false,
    "pycharm": {
     "name": "#%%\n"
    }
   }
  },
  {
   "cell_type": "code",
   "execution_count": 181,
   "outputs": [],
   "source": [
    "YTrain = np.array(trainDF.price)\n",
    "XTrain = np.array(trainDF.drop(['price'], axis=1))\n",
    "#XTest = np.array(testDF)\n",
    "Xtrain, Xtest, Ytrain, Ytest = train_test_split(XTrain, YTrain, test_size=0.33, random_state=10)\n",
    "X_train = np.array(Xtrain)\n",
    "X_test = np.array(Xtest)\n",
    "y_train = np.array(Ytrain)\n",
    "y_test = np.array(Ytest)"
   ],
   "metadata": {
    "collapsed": false,
    "pycharm": {
     "name": "#%%\n"
    }
   }
  },
  {
   "cell_type": "code",
   "execution_count": 189,
   "outputs": [
    {
     "data": {
      "text/plain": "          nbres         hrres      xgres\n0  5.185461e+06  5.873754e+06  4144268.0\n1  3.521494e+06  3.063709e+06  4257014.0\n2  2.925359e+06  3.091375e+06  2505673.5\n3  3.015761e+06  3.815111e+06  3324873.0\n4  6.070923e+06  5.925818e+06  7415804.5",
      "text/html": "<div>\n<style scoped>\n    .dataframe tbody tr th:only-of-type {\n        vertical-align: middle;\n    }\n\n    .dataframe tbody tr th {\n        vertical-align: top;\n    }\n\n    .dataframe thead th {\n        text-align: right;\n    }\n</style>\n<table border=\"1\" class=\"dataframe\">\n  <thead>\n    <tr style=\"text-align: right;\">\n      <th></th>\n      <th>nbres</th>\n      <th>hrres</th>\n      <th>xgres</th>\n    </tr>\n  </thead>\n  <tbody>\n    <tr>\n      <th>0</th>\n      <td>5.185461e+06</td>\n      <td>5.873754e+06</td>\n      <td>4144268.0</td>\n    </tr>\n    <tr>\n      <th>1</th>\n      <td>3.521494e+06</td>\n      <td>3.063709e+06</td>\n      <td>4257014.0</td>\n    </tr>\n    <tr>\n      <th>2</th>\n      <td>2.925359e+06</td>\n      <td>3.091375e+06</td>\n      <td>2505673.5</td>\n    </tr>\n    <tr>\n      <th>3</th>\n      <td>3.015761e+06</td>\n      <td>3.815111e+06</td>\n      <td>3324873.0</td>\n    </tr>\n    <tr>\n      <th>4</th>\n      <td>6.070923e+06</td>\n      <td>5.925818e+06</td>\n      <td>7415804.5</td>\n    </tr>\n  </tbody>\n</table>\n</div>"
     },
     "execution_count": 189,
     "metadata": {},
     "output_type": "execute_result"
    }
   ],
   "source": [
    "nb = LGBMRegressor( n_estimators=500, learning_rate=0.1)\n",
    "hr = HistGradientBoostingRegressor()\n",
    "xg = xgb.XGBRegressor(n_estimators=500)\n",
    "nb.fit(X_train, y_train)\n",
    "hr.fit(X_train, y_train)\n",
    "xg.fit(X_train, y_train)\n",
    "solutions = pd.DataFrame()\n",
    "solutions['nbres'] = nb.predict(X_test)\n",
    "solutions ['hrres'] = hr.predict(X_test)\n",
    "solutions ['xgres'] = xg.predict(X_test)\n",
    "solutions_sk = StandardScaler().fit_transform(solutions)\n",
    "solutions.head()"
   ],
   "metadata": {
    "collapsed": false,
    "pycharm": {
     "name": "#%%\n"
    }
   }
  },
  {
   "cell_type": "code",
   "execution_count": 190,
   "outputs": [
    {
     "data": {
      "text/plain": "Lasso()"
     },
     "execution_count": 190,
     "metadata": {},
     "output_type": "execute_result"
    }
   ],
   "source": [
    "lr = Lasso()\n",
    "lr.fit(solutions_sk, y_test)"
   ],
   "metadata": {
    "collapsed": false,
    "pycharm": {
     "name": "#%%\n"
    }
   }
  },
  {
   "cell_type": "code",
   "execution_count": 191,
   "outputs": [
    {
     "data": {
      "text/plain": "850223.5790438203"
     },
     "execution_count": 191,
     "metadata": {},
     "output_type": "execute_result"
    }
   ],
   "source": [
    "mean_absolute_error(lr.predict(solutions_sk), y_test)"
   ],
   "metadata": {
    "collapsed": false,
    "pycharm": {
     "name": "#%%\n"
    }
   }
  },
  {
   "cell_type": "code",
   "execution_count": 206,
   "outputs": [
    {
     "data": {
      "text/plain": "513751.1623697382"
     },
     "execution_count": 206,
     "metadata": {},
     "output_type": "execute_result"
    }
   ],
   "source": [
    "xgbR = xgb.XGBRegressor(n_estimators=500)\n",
    "xgbR.fit(X_train, y_train)\n",
    "mean_absolute_error(xgbR.predict(X_train), y_train)"
   ],
   "metadata": {
    "collapsed": false,
    "pycharm": {
     "name": "#%%\n"
    }
   }
  },
  {
   "cell_type": "code",
   "execution_count": 207,
   "outputs": [],
   "source": [
    "testDF = testDF.drop(['price'], axis=1)\n",
    "# sl = pd.DataFrame()\n",
    "# sl ['nbres'] = nb.predict(testDF)\n",
    "# sl ['nrres'] = hr.predict(testDF)\n",
    "# sl ['xgres'] = xg.predict(testDF)\n",
    "testDF[\"price\"] = xgbR.predict(testDF)\n",
    "testDF[[\"id\", \"price\"]].to_csv(\"dz5_xgb.csv\", index=False)"
   ],
   "metadata": {
    "collapsed": false,
    "pycharm": {
     "name": "#%%\n"
    }
   }
  },
  {
   "cell_type": "code",
   "execution_count": null,
   "outputs": [],
   "source": [],
   "metadata": {
    "collapsed": false,
    "pycharm": {
     "name": "#%%\n"
    }
   }
  }
 ],
 "metadata": {
  "kernelspec": {
   "display_name": "Python 3",
   "language": "python",
   "name": "python3"
  },
  "language_info": {
   "codemirror_mode": {
    "name": "ipython",
    "version": 2
   },
   "file_extension": ".py",
   "mimetype": "text/x-python",
   "name": "python",
   "nbconvert_exporter": "python",
   "pygments_lexer": "ipython2",
   "version": "2.7.6"
  }
 },
 "nbformat": 4,
 "nbformat_minor": 0
}