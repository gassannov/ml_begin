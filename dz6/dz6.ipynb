{
 "cells": [
  {
   "cell_type": "code",
   "execution_count": 2,
   "metadata": {
    "collapsed": true
   },
   "outputs": [],
   "source": [
    "import hashlib\n",
    "from typing import Iterable, Tuple, List, Dict, Set\n",
    "from functools import lru_cache\n",
    "from collections import Counter, defaultdict\n",
    "\n",
    "import pandas as pd\n",
    "import numpy as np\n",
    "import matplotlib.pyplot as plt\n",
    "plt.style.use('ggplot')\n",
    "import seaborn as sns\n",
    "import IPython.display as ipd\n",
    "import nltk\n",
    "from tqdm.auto import tqdm\n",
    "from crowdkit.aggregation import ROVER"
   ]
  },
  {
   "cell_type": "code",
   "execution_count": 3,
   "outputs": [
    {
     "data": {
      "text/plain": "                               task                  text  \\\n0  ed0f6706f75681a7915fec15d336aca5    дамира николаевича   \n1  3c2875271fb918da312865549d444653  антонине татариновой   \n2  f3dba379c6280536aaa65a56c4358268               жидкову   \n3  98962310d56cd7095d9893f5ed657f81            главатских   \n4  b4f6a8d9e2eba8085d25d4122b52d55a               мошкова   \n\n                    qnet                   w2v               w2v_tts  \n0     дамира николаевича   до мира николаевича    домера николаевича  \n1  онпанине то тариновый  антонине татариновый  антонини татариновый  \n2               жит куву              жит куву               жидкову  \n3                 лалаки            главатских              главацки  \n4                мошкова               машкова               мошкова  ",
      "text/html": "<div>\n<style scoped>\n    .dataframe tbody tr th:only-of-type {\n        vertical-align: middle;\n    }\n\n    .dataframe tbody tr th {\n        vertical-align: top;\n    }\n\n    .dataframe thead th {\n        text-align: right;\n    }\n</style>\n<table border=\"1\" class=\"dataframe\">\n  <thead>\n    <tr style=\"text-align: right;\">\n      <th></th>\n      <th>task</th>\n      <th>text</th>\n      <th>qnet</th>\n      <th>w2v</th>\n      <th>w2v_tts</th>\n    </tr>\n  </thead>\n  <tbody>\n    <tr>\n      <th>0</th>\n      <td>ed0f6706f75681a7915fec15d336aca5</td>\n      <td>дамира николаевича</td>\n      <td>дамира николаевича</td>\n      <td>до мира николаевича</td>\n      <td>домера николаевича</td>\n    </tr>\n    <tr>\n      <th>1</th>\n      <td>3c2875271fb918da312865549d444653</td>\n      <td>антонине татариновой</td>\n      <td>онпанине то тариновый</td>\n      <td>антонине татариновый</td>\n      <td>антонини татариновый</td>\n    </tr>\n    <tr>\n      <th>2</th>\n      <td>f3dba379c6280536aaa65a56c4358268</td>\n      <td>жидкову</td>\n      <td>жит куву</td>\n      <td>жит куву</td>\n      <td>жидкову</td>\n    </tr>\n    <tr>\n      <th>3</th>\n      <td>98962310d56cd7095d9893f5ed657f81</td>\n      <td>главатских</td>\n      <td>лалаки</td>\n      <td>главатских</td>\n      <td>главацки</td>\n    </tr>\n    <tr>\n      <th>4</th>\n      <td>b4f6a8d9e2eba8085d25d4122b52d55a</td>\n      <td>мошкова</td>\n      <td>мошкова</td>\n      <td>машкова</td>\n      <td>мошкова</td>\n    </tr>\n  </tbody>\n</table>\n</div>"
     },
     "execution_count": 3,
     "metadata": {},
     "output_type": "execute_result"
    }
   ],
   "source": [
    "train_df = pd.read_json(\"data/noisy_text_aggregation_train.jsonl\", lines=True)\n",
    "\n",
    "train_df.head()"
   ],
   "metadata": {
    "collapsed": false,
    "pycharm": {
     "name": "#%%\n"
    }
   }
  },
  {
   "cell_type": "code",
   "execution_count": 4,
   "outputs": [
    {
     "data": {
      "text/plain": "                               task                                qnet  \\\n0  73aff8bc8d99278c6ca6d1ac243557e3                                дели   \n1  ba8443f3cc91e56667278db36dea02b7  вектор упавнович чунула к лещенуму   \n2  af346fae1d5686a357e32710c5d4f13e                     риме менниковой   \n3  262fda7ab40a8417b99ecb314b3f7405               александровик провичо   \n4  08bd8fb35ceaf2843734ffeb389f2283                        я ро славцов   \n\n                               w2v                               w2v_tts  \n0                             зили                                  зили  \n1  виктору павловичу новокрещеному  виктору павлновичу навокрещинову  оо  \n2                римми мельниковой                     рымми мельниковой  \n3           александру викторовичу                александру викторовичу  \n4                       ерославцев                            ярославцев  ",
      "text/html": "<div>\n<style scoped>\n    .dataframe tbody tr th:only-of-type {\n        vertical-align: middle;\n    }\n\n    .dataframe tbody tr th {\n        vertical-align: top;\n    }\n\n    .dataframe thead th {\n        text-align: right;\n    }\n</style>\n<table border=\"1\" class=\"dataframe\">\n  <thead>\n    <tr style=\"text-align: right;\">\n      <th></th>\n      <th>task</th>\n      <th>qnet</th>\n      <th>w2v</th>\n      <th>w2v_tts</th>\n    </tr>\n  </thead>\n  <tbody>\n    <tr>\n      <th>0</th>\n      <td>73aff8bc8d99278c6ca6d1ac243557e3</td>\n      <td>дели</td>\n      <td>зили</td>\n      <td>зили</td>\n    </tr>\n    <tr>\n      <th>1</th>\n      <td>ba8443f3cc91e56667278db36dea02b7</td>\n      <td>вектор упавнович чунула к лещенуму</td>\n      <td>виктору павловичу новокрещеному</td>\n      <td>виктору павлновичу навокрещинову  оо</td>\n    </tr>\n    <tr>\n      <th>2</th>\n      <td>af346fae1d5686a357e32710c5d4f13e</td>\n      <td>риме менниковой</td>\n      <td>римми мельниковой</td>\n      <td>рымми мельниковой</td>\n    </tr>\n    <tr>\n      <th>3</th>\n      <td>262fda7ab40a8417b99ecb314b3f7405</td>\n      <td>александровик провичо</td>\n      <td>александру викторовичу</td>\n      <td>александру викторовичу</td>\n    </tr>\n    <tr>\n      <th>4</th>\n      <td>08bd8fb35ceaf2843734ffeb389f2283</td>\n      <td>я ро славцов</td>\n      <td>ерославцев</td>\n      <td>ярославцев</td>\n    </tr>\n  </tbody>\n</table>\n</div>"
     },
     "execution_count": 4,
     "metadata": {},
     "output_type": "execute_result"
    }
   ],
   "source": [
    "test_df = pd.read_json(\"data/noisy_text_aggregation_test.jsonl\", lines=True)\n",
    "\n",
    "test_df.head()"
   ],
   "metadata": {
    "collapsed": false,
    "pycharm": {
     "name": "#%%\n"
    }
   }
  },
  {
   "cell_type": "code",
   "execution_count": 5,
   "outputs": [
    {
     "data": {
      "text/plain": "                                               алиби\n0                                             сказка\n1                 найди в нете мульт стальной гигант\n2                                          мона лиза\n3                 смотреть сериал восемь с половиной\n4                  вруби российский фильм мосгорсмех\n5       найди на ютубе фильм меня зовут мохаммед али\n6  можешь мне поставить мультфильм квадратные зве...\n7                  сваты побыстрее включи пожалуйста\n8                  рокетмен смотреть сериал рокетмен\n9        можешь поставить мировая прогулка индия гоа",
      "text/html": "<div>\n<style scoped>\n    .dataframe tbody tr th:only-of-type {\n        vertical-align: middle;\n    }\n\n    .dataframe tbody tr th {\n        vertical-align: top;\n    }\n\n    .dataframe thead th {\n        text-align: right;\n    }\n</style>\n<table border=\"1\" class=\"dataframe\">\n  <thead>\n    <tr style=\"text-align: right;\">\n      <th></th>\n      <th>алиби</th>\n    </tr>\n  </thead>\n  <tbody>\n    <tr>\n      <th>0</th>\n      <td>сказка</td>\n    </tr>\n    <tr>\n      <th>1</th>\n      <td>найди в нете мульт стальной гигант</td>\n    </tr>\n    <tr>\n      <th>2</th>\n      <td>мона лиза</td>\n    </tr>\n    <tr>\n      <th>3</th>\n      <td>смотреть сериал восемь с половиной</td>\n    </tr>\n    <tr>\n      <th>4</th>\n      <td>вруби российский фильм мосгорсмех</td>\n    </tr>\n    <tr>\n      <th>5</th>\n      <td>найди на ютубе фильм меня зовут мохаммед али</td>\n    </tr>\n    <tr>\n      <th>6</th>\n      <td>можешь мне поставить мультфильм квадратные зве...</td>\n    </tr>\n    <tr>\n      <th>7</th>\n      <td>сваты побыстрее включи пожалуйста</td>\n    </tr>\n    <tr>\n      <th>8</th>\n      <td>рокетмен смотреть сериал рокетмен</td>\n    </tr>\n    <tr>\n      <th>9</th>\n      <td>можешь поставить мировая прогулка индия гоа</td>\n    </tr>\n  </tbody>\n</table>\n</div>"
     },
     "execution_count": 5,
     "metadata": {},
     "output_type": "execute_result"
    }
   ],
   "source": [
    "text_data = pd.read_csv(\"data/noisy_text_aggregation_text_only (1).csv\")\n",
    "\n",
    "text_data.head(10)"
   ],
   "metadata": {
    "collapsed": false,
    "pycharm": {
     "name": "#%%\n"
    }
   }
  },
  {
   "cell_type": "code",
   "execution_count": 6,
   "outputs": [],
   "source": [
    "MODEL_LIST = [\"qnet\", \"w2v\", \"w2v_tts\"]"
   ],
   "metadata": {
    "collapsed": false,
    "pycharm": {
     "name": "#%%\n"
    }
   }
  },
  {
   "cell_type": "code",
   "execution_count": 7,
   "outputs": [
    {
     "data": {
      "text/plain": "                                   task  \\\n1      3c2875271fb918da312865549d444653   \n6      1254c97d2434297a886e4dc4b2a16863   \n7      867e45b9a914fffff0c8ef976ee0a275   \n19     32d052f80c431869e7c13914b88f958e   \n21     719cbc316c0f3caa6324c110ad899b81   \n...                                 ...   \n60901  b2c4360bffc98f20b59fc6e6c3f1a606   \n60907  de0fd646bdd3b37697580c2cc2d7d624   \n60909  97d2af838eb539e5a7151b099e13498d   \n60911  f8df9effaf84f5aaa1f33c3e2cf4ad5a   \n60917  19fb11ac46e700873f80a0f615dad84c   \n\n                                                    text  \\\n1                                   антонине татариновой   \n6                                          илюши власова   \n7                                               терехину   \n19                                             айдарчике   \n21                            ксении валерьевны волковой   \n...                                                  ...   \n60901                                         фармэконом   \n60907                                         ссср бронь   \n60909                                      фото салончик   \n60911  седьмой кассационный суд общей юрисдикции телефон   \n60917                                        вилка ложка   \n\n                                                   qnet  \\\n1                                 онпанине то тариновый   \n6                                         илюши влассво   \n7                                             тере гину   \n19                                          а и дарчики   \n21                           сени и воверивны в волколы   \n...                                                 ...   \n60901                                      фар мы коном   \n60907                                    этозысер бронь   \n60909                                 хот то солоничиак   \n60911  седьмой катоционный суд общей юрисдикции телефон   \n60917                                       вилка лошка   \n\n                                                     w2v  \\\n1                                   антонине татариновый   \n6                                         и люши власово   \n7                                               терехину   \n19                                             аидарчике   \n21                           к сени и валеревны волковой   \n...                                                  ...   \n60901                                         фар мконом   \n60907                                     эсососэр бронь   \n60909                                   фот -то солончик   \n60911  седьмой кассационный суд общей юрисдикции  тел...   \n60917                                        вилка ложка   \n\n                                                w2v_tts  \n1                                  антонини татариновый  \n6                                        и люше власова  \n7                                             терьехину  \n19                                          а и дарчике  \n21                          ксение ивалиревной волковой  \n...                                                 ...  \n60901                                       фар мыконон  \n60907                                    эсисыцар бронь  \n60909                                  фото солоничек а  \n60911  седьмой касационный суд общей юрисдикции телефон  \n60917                                       вилка ложка  \n\n[12354 rows x 5 columns]",
      "text/html": "<div>\n<style scoped>\n    .dataframe tbody tr th:only-of-type {\n        vertical-align: middle;\n    }\n\n    .dataframe tbody tr th {\n        vertical-align: top;\n    }\n\n    .dataframe thead th {\n        text-align: right;\n    }\n</style>\n<table border=\"1\" class=\"dataframe\">\n  <thead>\n    <tr style=\"text-align: right;\">\n      <th></th>\n      <th>task</th>\n      <th>text</th>\n      <th>qnet</th>\n      <th>w2v</th>\n      <th>w2v_tts</th>\n    </tr>\n  </thead>\n  <tbody>\n    <tr>\n      <th>1</th>\n      <td>3c2875271fb918da312865549d444653</td>\n      <td>антонине татариновой</td>\n      <td>онпанине то тариновый</td>\n      <td>антонине татариновый</td>\n      <td>антонини татариновый</td>\n    </tr>\n    <tr>\n      <th>6</th>\n      <td>1254c97d2434297a886e4dc4b2a16863</td>\n      <td>илюши власова</td>\n      <td>илюши влассво</td>\n      <td>и люши власово</td>\n      <td>и люше власова</td>\n    </tr>\n    <tr>\n      <th>7</th>\n      <td>867e45b9a914fffff0c8ef976ee0a275</td>\n      <td>терехину</td>\n      <td>тере гину</td>\n      <td>терехину</td>\n      <td>терьехину</td>\n    </tr>\n    <tr>\n      <th>19</th>\n      <td>32d052f80c431869e7c13914b88f958e</td>\n      <td>айдарчике</td>\n      <td>а и дарчики</td>\n      <td>аидарчике</td>\n      <td>а и дарчике</td>\n    </tr>\n    <tr>\n      <th>21</th>\n      <td>719cbc316c0f3caa6324c110ad899b81</td>\n      <td>ксении валерьевны волковой</td>\n      <td>сени и воверивны в волколы</td>\n      <td>к сени и валеревны волковой</td>\n      <td>ксение ивалиревной волковой</td>\n    </tr>\n    <tr>\n      <th>...</th>\n      <td>...</td>\n      <td>...</td>\n      <td>...</td>\n      <td>...</td>\n      <td>...</td>\n    </tr>\n    <tr>\n      <th>60901</th>\n      <td>b2c4360bffc98f20b59fc6e6c3f1a606</td>\n      <td>фармэконом</td>\n      <td>фар мы коном</td>\n      <td>фар мконом</td>\n      <td>фар мыконон</td>\n    </tr>\n    <tr>\n      <th>60907</th>\n      <td>de0fd646bdd3b37697580c2cc2d7d624</td>\n      <td>ссср бронь</td>\n      <td>этозысер бронь</td>\n      <td>эсососэр бронь</td>\n      <td>эсисыцар бронь</td>\n    </tr>\n    <tr>\n      <th>60909</th>\n      <td>97d2af838eb539e5a7151b099e13498d</td>\n      <td>фото салончик</td>\n      <td>хот то солоничиак</td>\n      <td>фот -то солончик</td>\n      <td>фото солоничек а</td>\n    </tr>\n    <tr>\n      <th>60911</th>\n      <td>f8df9effaf84f5aaa1f33c3e2cf4ad5a</td>\n      <td>седьмой кассационный суд общей юрисдикции телефон</td>\n      <td>седьмой катоционный суд общей юрисдикции телефон</td>\n      <td>седьмой кассационный суд общей юрисдикции  тел...</td>\n      <td>седьмой касационный суд общей юрисдикции телефон</td>\n    </tr>\n    <tr>\n      <th>60917</th>\n      <td>19fb11ac46e700873f80a0f615dad84c</td>\n      <td>вилка ложка</td>\n      <td>вилка лошка</td>\n      <td>вилка ложка</td>\n      <td>вилка ложка</td>\n    </tr>\n  </tbody>\n</table>\n<p>12354 rows × 5 columns</p>\n</div>"
     },
     "execution_count": 7,
     "metadata": {},
     "output_type": "execute_result"
    }
   ],
   "source": [
    "def hash_reminder(str_, base: int=10) -> int:\n",
    "    return int(hashlib.md5(str_.encode()).hexdigest(), 16) % base\n",
    "\n",
    "train_mask = train_df['task'].apply(lambda x: hash_reminder(x, 10) <= 7)\n",
    "\n",
    "val_df = train_df[~train_mask]\n",
    "train_df = train_df[train_mask]\n",
    "val_df"
   ],
   "metadata": {
    "collapsed": false,
    "pycharm": {
     "name": "#%%\n"
    }
   }
  },
  {
   "cell_type": "code",
   "execution_count": 8,
   "outputs": [],
   "source": [
    "def edit_distance(ref: Iterable, hyp: Iterable, plot: bool=False) -> int:\n",
    "    dist = np.zeros((len(hyp) + 1, len(ref) + 1), dtype=np.int32)\n",
    "\n",
    "    dist[:, 0] = np.arange(len(hyp) + 1)\n",
    "    dist[0, :] = np.arange(len(ref) + 1)\n",
    "\n",
    "    for i, r in enumerate(hyp, start=1):\n",
    "        for j, h in enumerate(ref, start=1):\n",
    "            dist[i, j] = min(\n",
    "                dist[i - 1, j - 1] + (r != h),\n",
    "                dist[i, j - 1] + 1,\n",
    "                dist[i - 1, j] + 1\n",
    "            )\n",
    "    if plot:\n",
    "        sns.heatmap(\n",
    "            pd.DataFrame(\n",
    "                dist,\n",
    "                index=[' '] + list(hyp),\n",
    "                columns=[' '] + list(ref)\n",
    "            ),\n",
    "            annot=True,\n",
    "            cmap='coolwarm_r',\n",
    "            linewidth=2\n",
    "        )\n",
    "        plt.tick_params(\n",
    "            axis='both', which='major', labelsize=14, left=False, labelbottom=False,\n",
    "            bottom=False, top=False, labeltop=True\n",
    "        )\n",
    "        plt.yticks(rotation=0)\n",
    "\n",
    "    return dist[-1, -1]\n"
   ],
   "metadata": {
    "collapsed": false,
    "pycharm": {
     "name": "#%%\n"
    }
   }
  },
  {
   "cell_type": "code",
   "execution_count": 9,
   "outputs": [],
   "source": [
    "def error_rate(refs: Iterable[Iterable], hyps: Iterable[Iterable]) -> float:\n",
    "    \"\"\"\n",
    "    ignoring hypotheses with empty references\n",
    "    \"\"\"\n",
    "\n",
    "    wrong_words, all_words = 0, 0\n",
    "\n",
    "    for ref, hyp in tqdm(zip(refs, hyps), total=len(refs)):\n",
    "        if len(ref) > 0:\n",
    "            wrong_words += edit_distance(ref, hyp)\n",
    "            all_words += len(ref)\n",
    "        else:\n",
    "            continue\n",
    "    return wrong_words / all_words\n",
    "\n",
    "\n",
    "def wer(refs: Iterable[str], hyps: Iterable[str]) -> float:\n",
    "    \"\"\"\n",
    "    Word Error Rate\n",
    "    \"\"\"\n",
    "    return error_rate(\n",
    "        [ref.split() for ref in refs],\n",
    "        [hyp.split() for hyp in hyps]\n",
    "    )\n",
    "\n",
    "\n",
    "def cer(refs: Iterable[str], hyps: Iterable[str]) -> float:\n",
    "    \"\"\"\n",
    "    Character Error Rate\n",
    "    \"\"\"\n",
    "    return error_rate(refs, hyps)"
   ],
   "metadata": {
    "collapsed": false,
    "pycharm": {
     "name": "#%%\n"
    }
   }
  },
  {
   "cell_type": "code",
   "execution_count": 10,
   "outputs": [
    {
     "data": {
      "text/plain": "  0%|          | 0/12354 [00:00<?, ?it/s]",
      "application/vnd.jupyter.widget-view+json": {
       "version_major": 2,
       "version_minor": 0,
       "model_id": "eec9419386ee4402a5b2c185f98863fd"
      }
     },
     "metadata": {},
     "output_type": "display_data"
    },
    {
     "data": {
      "text/plain": "  0%|          | 0/12354 [00:00<?, ?it/s]",
      "application/vnd.jupyter.widget-view+json": {
       "version_major": 2,
       "version_minor": 0,
       "model_id": "5cedf1c4f7644265904838a8ab5e4b1f"
      }
     },
     "metadata": {},
     "output_type": "display_data"
    },
    {
     "data": {
      "text/plain": "  0%|          | 0/12354 [00:00<?, ?it/s]",
      "application/vnd.jupyter.widget-view+json": {
       "version_major": 2,
       "version_minor": 0,
       "model_id": "225168e104d74cba88654e675f84ed53"
      }
     },
     "metadata": {},
     "output_type": "display_data"
    }
   ],
   "source": [
    "method2wer = {model: wer(val_df[model], val_df['text']) for model in MODEL_LIST}"
   ],
   "metadata": {
    "collapsed": false,
    "pycharm": {
     "name": "#%%\n"
    }
   }
  },
  {
   "cell_type": "code",
   "execution_count": 11,
   "outputs": [
    {
     "data": {
      "text/plain": "{'qnet': 0.7652783922138658,\n 'w2v': 0.5601030720835285,\n 'w2v_tts': 0.620017745017745}"
     },
     "execution_count": 11,
     "metadata": {},
     "output_type": "execute_result"
    }
   ],
   "source": [
    "method2wer"
   ],
   "metadata": {
    "collapsed": false,
    "pycharm": {
     "name": "#%%\n"
    }
   }
  },
  {
   "cell_type": "code",
   "execution_count": 12,
   "outputs": [],
   "source": [
    "def get_rover_df(df: pd.DataFrame, model_cols: List[str], tmp_col: str=\"__tmp\") -> pd.DataFrame:\n",
    "\n",
    "    rover_df = df.copy()\n",
    "\n",
    "    if \"text\" in rover_df.columns:\n",
    "        rover_df.drop(\"text\", axis=1, inplace=True)\n",
    "\n",
    "    rover_df[tmp_col] = rover_df.apply(lambda row: [(model, row[model]) for model in model_cols], axis=1)\n",
    "\n",
    "    rover_df = rover_df.drop(model_cols, axis=1).explode(tmp_col)\n",
    "\n",
    "    return pd.DataFrame({\n",
    "        \"task\": rover_df[\"task\"],\n",
    "        \"performer\": rover_df[tmp_col].apply(lambda x: x[0]),\n",
    "        \"text\": rover_df[tmp_col].apply(lambda x: x[1])\n",
    "    })"
   ],
   "metadata": {
    "collapsed": false,
    "pycharm": {
     "name": "#%%\n"
    }
   }
  },
  {
   "cell_type": "code",
   "execution_count": 13,
   "outputs": [],
   "source": [
    "val_rover_df = get_rover_df(val_df, model_cols=MODEL_LIST)"
   ],
   "metadata": {
    "collapsed": false,
    "pycharm": {
     "name": "#%%\n"
    }
   }
  },
  {
   "cell_type": "code",
   "execution_count": 14,
   "outputs": [
    {
     "data": {
      "text/plain": "  0%|          | 0/12354 [00:00<?, ?it/s]",
      "application/vnd.jupyter.widget-view+json": {
       "version_major": 2,
       "version_minor": 0,
       "model_id": "721df6caef0b49ffbc0343a50bd8422b"
      }
     },
     "metadata": {},
     "output_type": "display_data"
    }
   ],
   "source": [
    "rover_result = (\n",
    "    ROVER(\n",
    "        tokenizer=lambda x: list(x),\n",
    "        detokenizer=lambda s: \"\".join(s),\n",
    "        silent=False\n",
    "    )\n",
    "        .fit_predict(val_rover_df)\n",
    ")"
   ],
   "metadata": {
    "collapsed": false,
    "pycharm": {
     "name": "#%%\n"
    }
   }
  },
  {
   "cell_type": "code",
   "execution_count": 15,
   "outputs": [
    {
     "data": {
      "text/plain": "task\n00126486c79ae5254e1ccff81bd06c52            баксето горске\n0022ce6b98768587407ec6bafc726c3f           бориса глепском\n00257e4f1cf7df02c33d658a06cd4d7c                 жуно гатх\n00290854e17300262c423409acbc3694                    аргуна\n002d20a21ceda7330dccb030fda53b8e     маршрут цытодель силы\n                                             ...          \nffe3055f00e0b85ed591bd8b094b74da                    матола\nffed617e2f52afff8325ed67cea0e736       билет экспресс шина\nffedc21adf9f778a36e54e9a92296684                   аркадия\nfff84841dfd4abcb56d1f646c56543ab    непски тридцать запять\nfffa25bd1e4ca9152efe3558e389f68b     ближайший кот бигимот\nName: agg_text, Length: 12354, dtype: object"
     },
     "execution_count": 15,
     "metadata": {},
     "output_type": "execute_result"
    }
   ],
   "source": [
    "rover_result"
   ],
   "metadata": {
    "collapsed": false,
    "pycharm": {
     "name": "#%%\n"
    }
   }
  },
  {
   "cell_type": "code",
   "execution_count": 16,
   "outputs": [],
   "source": [
    "rover_result = pd.merge(\n",
    "    val_df,\n",
    "    rover_result.reset_index(),\n",
    "    on='task'\n",
    ")"
   ],
   "metadata": {
    "collapsed": false,
    "pycharm": {
     "name": "#%%\n"
    }
   }
  },
  {
   "cell_type": "code",
   "execution_count": 17,
   "outputs": [
    {
     "data": {
      "text/plain": "  0%|          | 0/12354 [00:00<?, ?it/s]",
      "application/vnd.jupyter.widget-view+json": {
       "version_major": 2,
       "version_minor": 0,
       "model_id": "6bd3da7cc32e4430a5be1c5c8f671126"
      }
     },
     "metadata": {},
     "output_type": "display_data"
    }
   ],
   "source": [
    "method2wer['base_rover'] = wer(rover_result['agg_text'], rover_result['text'])\n",
    "val_df = rover_result\n",
    "MODEL_LIST.append(\"base_rover\")"
   ],
   "metadata": {
    "collapsed": false,
    "pycharm": {
     "name": "#%%\n"
    }
   }
  },
  {
   "cell_type": "code",
   "execution_count": 18,
   "outputs": [],
   "source": [
    "val_df = val_df.rename(columns={\"agg_text\":\"base_rover\"})"
   ],
   "metadata": {
    "collapsed": false,
    "pycharm": {
     "name": "#%%\n"
    }
   }
  },
  {
   "cell_type": "code",
   "execution_count": 19,
   "outputs": [
    {
     "data": {
      "text/plain": "                                   task  \\\n0      3c2875271fb918da312865549d444653   \n1      1254c97d2434297a886e4dc4b2a16863   \n2      867e45b9a914fffff0c8ef976ee0a275   \n3      32d052f80c431869e7c13914b88f958e   \n4      719cbc316c0f3caa6324c110ad899b81   \n...                                 ...   \n12349  b2c4360bffc98f20b59fc6e6c3f1a606   \n12350  de0fd646bdd3b37697580c2cc2d7d624   \n12351  97d2af838eb539e5a7151b099e13498d   \n12352  f8df9effaf84f5aaa1f33c3e2cf4ad5a   \n12353  19fb11ac46e700873f80a0f615dad84c   \n\n                                                    text  \\\n0                                   антонине татариновой   \n1                                          илюши власова   \n2                                               терехину   \n3                                              айдарчике   \n4                             ксении валерьевны волковой   \n...                                                  ...   \n12349                                         фармэконом   \n12350                                         ссср бронь   \n12351                                      фото салончик   \n12352  седьмой кассационный суд общей юрисдикции телефон   \n12353                                        вилка ложка   \n\n                                                   qnet  \\\n0                                 онпанине то тариновый   \n1                                         илюши влассво   \n2                                             тере гину   \n3                                           а и дарчики   \n4                            сени и воверивны в волколы   \n...                                                 ...   \n12349                                      фар мы коном   \n12350                                    этозысер бронь   \n12351                                 хот то солоничиак   \n12352  седьмой катоционный суд общей юрисдикции телефон   \n12353                                       вилка лошка   \n\n                                                     w2v  \\\n0                                   антонине татариновый   \n1                                         и люши власово   \n2                                               терехину   \n3                                              аидарчике   \n4                            к сени и валеревны волковой   \n...                                                  ...   \n12349                                         фар мконом   \n12350                                     эсососэр бронь   \n12351                                   фот -то солончик   \n12352  седьмой кассационный суд общей юрисдикции  тел...   \n12353                                        вилка ложка   \n\n                                                w2v_tts  \\\n0                                  антонини татариновый   \n1                                        и люше власова   \n2                                             терьехину   \n3                                           а и дарчике   \n4                           ксение ивалиревной волковой   \n...                                                 ...   \n12349                                       фар мыконон   \n12350                                    эсисыцар бронь   \n12351                                  фото солоничек а   \n12352  седьмой касационный суд общей юрисдикции телефон   \n12353                                       вилка ложка   \n\n                                             base_rover  \n0                                  антонине татариновый  \n1                                        и люши власово  \n2                                              терехину  \n3                                           а и дарчике  \n4                           ксени и валеревный волковой  \n...                                                 ...  \n12349                                       фар мыконом  \n12350                                    эсосысэр бронь  \n12351                                  фот то солоничик  \n12352  седьмой касационный суд общей юрисдикции телефон  \n12353                                       вилка ложка  \n\n[12354 rows x 6 columns]",
      "text/html": "<div>\n<style scoped>\n    .dataframe tbody tr th:only-of-type {\n        vertical-align: middle;\n    }\n\n    .dataframe tbody tr th {\n        vertical-align: top;\n    }\n\n    .dataframe thead th {\n        text-align: right;\n    }\n</style>\n<table border=\"1\" class=\"dataframe\">\n  <thead>\n    <tr style=\"text-align: right;\">\n      <th></th>\n      <th>task</th>\n      <th>text</th>\n      <th>qnet</th>\n      <th>w2v</th>\n      <th>w2v_tts</th>\n      <th>base_rover</th>\n    </tr>\n  </thead>\n  <tbody>\n    <tr>\n      <th>0</th>\n      <td>3c2875271fb918da312865549d444653</td>\n      <td>антонине татариновой</td>\n      <td>онпанине то тариновый</td>\n      <td>антонине татариновый</td>\n      <td>антонини татариновый</td>\n      <td>антонине татариновый</td>\n    </tr>\n    <tr>\n      <th>1</th>\n      <td>1254c97d2434297a886e4dc4b2a16863</td>\n      <td>илюши власова</td>\n      <td>илюши влассво</td>\n      <td>и люши власово</td>\n      <td>и люше власова</td>\n      <td>и люши власово</td>\n    </tr>\n    <tr>\n      <th>2</th>\n      <td>867e45b9a914fffff0c8ef976ee0a275</td>\n      <td>терехину</td>\n      <td>тере гину</td>\n      <td>терехину</td>\n      <td>терьехину</td>\n      <td>терехину</td>\n    </tr>\n    <tr>\n      <th>3</th>\n      <td>32d052f80c431869e7c13914b88f958e</td>\n      <td>айдарчике</td>\n      <td>а и дарчики</td>\n      <td>аидарчике</td>\n      <td>а и дарчике</td>\n      <td>а и дарчике</td>\n    </tr>\n    <tr>\n      <th>4</th>\n      <td>719cbc316c0f3caa6324c110ad899b81</td>\n      <td>ксении валерьевны волковой</td>\n      <td>сени и воверивны в волколы</td>\n      <td>к сени и валеревны волковой</td>\n      <td>ксение ивалиревной волковой</td>\n      <td>ксени и валеревный волковой</td>\n    </tr>\n    <tr>\n      <th>...</th>\n      <td>...</td>\n      <td>...</td>\n      <td>...</td>\n      <td>...</td>\n      <td>...</td>\n      <td>...</td>\n    </tr>\n    <tr>\n      <th>12349</th>\n      <td>b2c4360bffc98f20b59fc6e6c3f1a606</td>\n      <td>фармэконом</td>\n      <td>фар мы коном</td>\n      <td>фар мконом</td>\n      <td>фар мыконон</td>\n      <td>фар мыконом</td>\n    </tr>\n    <tr>\n      <th>12350</th>\n      <td>de0fd646bdd3b37697580c2cc2d7d624</td>\n      <td>ссср бронь</td>\n      <td>этозысер бронь</td>\n      <td>эсососэр бронь</td>\n      <td>эсисыцар бронь</td>\n      <td>эсосысэр бронь</td>\n    </tr>\n    <tr>\n      <th>12351</th>\n      <td>97d2af838eb539e5a7151b099e13498d</td>\n      <td>фото салончик</td>\n      <td>хот то солоничиак</td>\n      <td>фот -то солончик</td>\n      <td>фото солоничек а</td>\n      <td>фот то солоничик</td>\n    </tr>\n    <tr>\n      <th>12352</th>\n      <td>f8df9effaf84f5aaa1f33c3e2cf4ad5a</td>\n      <td>седьмой кассационный суд общей юрисдикции телефон</td>\n      <td>седьмой катоционный суд общей юрисдикции телефон</td>\n      <td>седьмой кассационный суд общей юрисдикции  тел...</td>\n      <td>седьмой касационный суд общей юрисдикции телефон</td>\n      <td>седьмой касационный суд общей юрисдикции телефон</td>\n    </tr>\n    <tr>\n      <th>12353</th>\n      <td>19fb11ac46e700873f80a0f615dad84c</td>\n      <td>вилка ложка</td>\n      <td>вилка лошка</td>\n      <td>вилка ложка</td>\n      <td>вилка ложка</td>\n      <td>вилка ложка</td>\n    </tr>\n  </tbody>\n</table>\n<p>12354 rows × 6 columns</p>\n</div>"
     },
     "execution_count": 19,
     "metadata": {},
     "output_type": "execute_result"
    }
   ],
   "source": [
    "val_df"
   ],
   "metadata": {
    "collapsed": false,
    "pycharm": {
     "name": "#%%\n"
    }
   }
  },
  {
   "cell_type": "code",
   "execution_count": 20,
   "outputs": [],
   "source": [
    "def one_edit_words(word: str) -> Set[str]:\n",
    "    \"\"\"\n",
    "    return list of candidates with one correction\n",
    "    \"\"\"\n",
    "    letters = 'абвгдежзийклмнопрстуфхцчшщъыьэюя'\n",
    "    splits = [(word[:i], word[i:]) for i in range(len(word) + 1)]\n",
    "    deletions = [left + right[1:] for left, right in splits if right]\n",
    "    substitutions = [left + c + right[1:] for left, right in splits if right for c in letters]\n",
    "    insertions = [left + c + right for left, right in splits for c in letters]\n",
    "    return set(deletions + substitutions + insertions)\n",
    "\n",
    "\n",
    "word_counts = Counter([word for utterance in train_df['text'].str.split() for word in utterance])\n",
    "\n",
    "\n",
    "@lru_cache(maxsize=None)\n",
    "def correct_word(word: str) -> str:\n",
    "    if word in word_counts:\n",
    "        return word\n",
    "\n",
    "    candidates = one_edit_words(word)\n",
    "\n",
    "    candidates = sorted([\n",
    "        (word, word_counts[word])\n",
    "        for word in candidates if word_counts[word] > 0\n",
    "    ],\n",
    "        key=lambda x: -x[1]\n",
    "    )\n",
    "\n",
    "    if candidates:\n",
    "        return max(candidates, key=lambda x: x[1])[0]\n",
    "    return word"
   ],
   "metadata": {
    "collapsed": false,
    "pycharm": {
     "name": "#%%\n"
    }
   }
  },
  {
   "cell_type": "code",
   "execution_count": 21,
   "outputs": [
    {
     "data": {
      "text/plain": "  0%|          | 0/12354 [00:00<?, ?it/s]",
      "application/vnd.jupyter.widget-view+json": {
       "version_major": 2,
       "version_minor": 0,
       "model_id": "48aa93194f3d4e388734937b6586c7c1"
      }
     },
     "metadata": {},
     "output_type": "display_data"
    }
   ],
   "source": [
    "base_rover_corrected = val_df['base_rover'].apply(\n",
    "    lambda x: \" \".join([correct_word(w) for w in x.split()])\n",
    ")\n",
    "\n",
    "method2wer['base_rover_corrected'] = wer(val_df['text'], base_rover_corrected)\n",
    "val_df[\"base_rover_corrected\"] = base_rover_corrected\n",
    "MODEL_LIST.append(\"base_rover_corrected\")\n"
   ],
   "metadata": {
    "collapsed": false,
    "pycharm": {
     "name": "#%%\n"
    }
   }
  },
  {
   "cell_type": "code",
   "execution_count": 22,
   "outputs": [
    {
     "data": {
      "text/plain": "{'qnet': 0.7652783922138658,\n 'w2v': 0.5601030720835285,\n 'w2v_tts': 0.620017745017745,\n 'base_rover': 0.5634646316005613,\n 'base_rover_corrected': 0.528392647633946}"
     },
     "execution_count": 22,
     "metadata": {},
     "output_type": "execute_result"
    }
   ],
   "source": [
    "method2wer"
   ],
   "metadata": {
    "collapsed": false,
    "pycharm": {
     "name": "#%%\n"
    }
   }
  },
  {
   "cell_type": "code",
   "execution_count": 23,
   "outputs": [
    {
     "data": {
      "text/plain": "  0%|          | 0/12354 [00:00<?, ?it/s]",
      "application/vnd.jupyter.widget-view+json": {
       "version_major": 2,
       "version_minor": 0,
       "model_id": "efc7ad0be97645c484bb11651f3851dc"
      }
     },
     "metadata": {},
     "output_type": "display_data"
    }
   ],
   "source": [
    "w2v_corr = val_df['w2v'].apply(\n",
    "    lambda x: \" \".join([correct_word(w) for w in x.split()])\n",
    ")\n",
    "\n",
    "w2v_tts_corr = val_df['w2v_tts'].apply(\n",
    "    lambda x: \" \".join([correct_word(w) for w in x.split()])\n",
    ")\n",
    "\n",
    "wer(val_df['text'], w2v_corr)\n",
    "\n",
    "corrected_val = pd.DataFrame()\n",
    "corrected_val['w2v'] = w2v_corr\n",
    "corrected_val['w2v_tts'] = w2v_tts_corr\n",
    "corrected_val['qnet'] = val_df['qnet']\n",
    "corrected_val['task'] = val_df['task']"
   ],
   "metadata": {
    "collapsed": false,
    "pycharm": {
     "name": "#%%\n"
    }
   }
  },
  {
   "cell_type": "code",
   "execution_count": 24,
   "outputs": [
    {
     "data": {
      "text/plain": "                                                     w2v  \\\n0                                   антонина татариновый   \n1                                          и люди власов   \n2                                               терехину   \n3                                              аидарчике   \n4                           к сети и валерьевны волковой   \n...                                                  ...   \n12349                                         бар эконом   \n12350                                     эсососэр бронь   \n12351                                  фото сто солончик   \n12352  седьмой кассационный суд общей юрисдикции телефон   \n12353                                        вилка ложка   \n\n                                                w2v_tts  \\\n0                                  антонина татариновый   \n1                                         и леше власов   \n2                                             терьехину   \n3                                           а и дарчике   \n4                           ксения ивалиревной волковой   \n...                                                 ...   \n12349                                       бар мыконон   \n12350                                    эсисыцар бронь   \n12351                                  фото солоничек а   \n12352  седьмой касационный суд общей юрисдикции телефон   \n12353                                       вилка ложка   \n\n                                                   qnet  \\\n0                                 онпанине то тариновый   \n1                                         илюши влассво   \n2                                             тере гину   \n3                                           а и дарчики   \n4                            сени и воверивны в волколы   \n...                                                 ...   \n12349                                      фар мы коном   \n12350                                    этозысер бронь   \n12351                                 хот то солоничиак   \n12352  седьмой катоционный суд общей юрисдикции телефон   \n12353                                       вилка лошка   \n\n                                   task  \n0      3c2875271fb918da312865549d444653  \n1      1254c97d2434297a886e4dc4b2a16863  \n2      867e45b9a914fffff0c8ef976ee0a275  \n3      32d052f80c431869e7c13914b88f958e  \n4      719cbc316c0f3caa6324c110ad899b81  \n...                                 ...  \n12349  b2c4360bffc98f20b59fc6e6c3f1a606  \n12350  de0fd646bdd3b37697580c2cc2d7d624  \n12351  97d2af838eb539e5a7151b099e13498d  \n12352  f8df9effaf84f5aaa1f33c3e2cf4ad5a  \n12353  19fb11ac46e700873f80a0f615dad84c  \n\n[12354 rows x 4 columns]",
      "text/html": "<div>\n<style scoped>\n    .dataframe tbody tr th:only-of-type {\n        vertical-align: middle;\n    }\n\n    .dataframe tbody tr th {\n        vertical-align: top;\n    }\n\n    .dataframe thead th {\n        text-align: right;\n    }\n</style>\n<table border=\"1\" class=\"dataframe\">\n  <thead>\n    <tr style=\"text-align: right;\">\n      <th></th>\n      <th>w2v</th>\n      <th>w2v_tts</th>\n      <th>qnet</th>\n      <th>task</th>\n    </tr>\n  </thead>\n  <tbody>\n    <tr>\n      <th>0</th>\n      <td>антонина татариновый</td>\n      <td>антонина татариновый</td>\n      <td>онпанине то тариновый</td>\n      <td>3c2875271fb918da312865549d444653</td>\n    </tr>\n    <tr>\n      <th>1</th>\n      <td>и люди власов</td>\n      <td>и леше власов</td>\n      <td>илюши влассво</td>\n      <td>1254c97d2434297a886e4dc4b2a16863</td>\n    </tr>\n    <tr>\n      <th>2</th>\n      <td>терехину</td>\n      <td>терьехину</td>\n      <td>тере гину</td>\n      <td>867e45b9a914fffff0c8ef976ee0a275</td>\n    </tr>\n    <tr>\n      <th>3</th>\n      <td>аидарчике</td>\n      <td>а и дарчике</td>\n      <td>а и дарчики</td>\n      <td>32d052f80c431869e7c13914b88f958e</td>\n    </tr>\n    <tr>\n      <th>4</th>\n      <td>к сети и валерьевны волковой</td>\n      <td>ксения ивалиревной волковой</td>\n      <td>сени и воверивны в волколы</td>\n      <td>719cbc316c0f3caa6324c110ad899b81</td>\n    </tr>\n    <tr>\n      <th>...</th>\n      <td>...</td>\n      <td>...</td>\n      <td>...</td>\n      <td>...</td>\n    </tr>\n    <tr>\n      <th>12349</th>\n      <td>бар эконом</td>\n      <td>бар мыконон</td>\n      <td>фар мы коном</td>\n      <td>b2c4360bffc98f20b59fc6e6c3f1a606</td>\n    </tr>\n    <tr>\n      <th>12350</th>\n      <td>эсососэр бронь</td>\n      <td>эсисыцар бронь</td>\n      <td>этозысер бронь</td>\n      <td>de0fd646bdd3b37697580c2cc2d7d624</td>\n    </tr>\n    <tr>\n      <th>12351</th>\n      <td>фото сто солончик</td>\n      <td>фото солоничек а</td>\n      <td>хот то солоничиак</td>\n      <td>97d2af838eb539e5a7151b099e13498d</td>\n    </tr>\n    <tr>\n      <th>12352</th>\n      <td>седьмой кассационный суд общей юрисдикции телефон</td>\n      <td>седьмой касационный суд общей юрисдикции телефон</td>\n      <td>седьмой катоционный суд общей юрисдикции телефон</td>\n      <td>f8df9effaf84f5aaa1f33c3e2cf4ad5a</td>\n    </tr>\n    <tr>\n      <th>12353</th>\n      <td>вилка ложка</td>\n      <td>вилка ложка</td>\n      <td>вилка лошка</td>\n      <td>19fb11ac46e700873f80a0f615dad84c</td>\n    </tr>\n  </tbody>\n</table>\n<p>12354 rows × 4 columns</p>\n</div>"
     },
     "execution_count": 24,
     "metadata": {},
     "output_type": "execute_result"
    }
   ],
   "source": [
    "corrected_val"
   ],
   "metadata": {
    "collapsed": false,
    "pycharm": {
     "name": "#%%\n"
    }
   }
  },
  {
   "cell_type": "code",
   "execution_count": 25,
   "outputs": [],
   "source": [
    "rover_on_corrected = get_rover_df(corrected_val, ['w2v', 'w2v_tts', 'qnet'])"
   ],
   "metadata": {
    "collapsed": false,
    "pycharm": {
     "name": "#%%\n"
    }
   }
  },
  {
   "cell_type": "code",
   "execution_count": 26,
   "outputs": [
    {
     "data": {
      "text/plain": "  0%|          | 0/12354 [00:00<?, ?it/s]",
      "application/vnd.jupyter.widget-view+json": {
       "version_major": 2,
       "version_minor": 0,
       "model_id": "e884c5ca94fc4bb3976a0aec3298d841"
      }
     },
     "metadata": {},
     "output_type": "display_data"
    }
   ],
   "source": [
    "rover_corrected_result = (\n",
    "    ROVER(\n",
    "        tokenizer=lambda x: list(x),\n",
    "        detokenizer=lambda s: \"\".join(s),\n",
    "        silent=False\n",
    "    )\n",
    "        .fit_predict(rover_on_corrected)\n",
    ")"
   ],
   "metadata": {
    "collapsed": false,
    "pycharm": {
     "name": "#%%\n"
    }
   }
  },
  {
   "cell_type": "code",
   "execution_count": 27,
   "outputs": [],
   "source": [
    "rover_corrected_result = pd.merge(\n",
    "    val_df,\n",
    "    rover_corrected_result.reset_index(),\n",
    "    on='task'\n",
    ")\n"
   ],
   "metadata": {
    "collapsed": false,
    "pycharm": {
     "name": "#%%\n"
    }
   }
  },
  {
   "cell_type": "code",
   "execution_count": 28,
   "outputs": [
    {
     "data": {
      "text/plain": "  0%|          | 0/12354 [00:00<?, ?it/s]",
      "application/vnd.jupyter.widget-view+json": {
       "version_major": 2,
       "version_minor": 0,
       "model_id": "fc1862c8a9dc4ea5a01290a74b67681b"
      }
     },
     "metadata": {},
     "output_type": "display_data"
    }
   ],
   "source": [
    "method2wer['rover_on_corrected'] = wer(rover_corrected_result['agg_text'], val_df['text'])\n",
    "MODEL_LIST.append(\"rover_on_corrected\")\n"
   ],
   "metadata": {
    "collapsed": false,
    "pycharm": {
     "name": "#%%\n"
    }
   }
  },
  {
   "cell_type": "code",
   "execution_count": 29,
   "outputs": [
    {
     "data": {
      "text/plain": "{'qnet': 0.7652783922138658,\n 'w2v': 0.5601030720835285,\n 'w2v_tts': 0.620017745017745,\n 'base_rover': 0.5634646316005613,\n 'base_rover_corrected': 0.528392647633946,\n 'rover_on_corrected': 0.48954751753541464}"
     },
     "execution_count": 29,
     "metadata": {},
     "output_type": "execute_result"
    }
   ],
   "source": [
    "method2wer"
   ],
   "metadata": {
    "collapsed": false,
    "pycharm": {
     "name": "#%%\n"
    }
   }
  },
  {
   "cell_type": "code",
   "execution_count": 30,
   "outputs": [],
   "source": [
    "class LaplaceLanguageModel:\n",
    "\n",
    "    def __init__(\n",
    "            self,\n",
    "            tokenized_texts: Iterable[Iterable[str]],\n",
    "            n: int,\n",
    "            delta: float = 0.0,\n",
    "            BOS: str='<BOS>',\n",
    "            EOS: str='<EOS>'\n",
    "    ):\n",
    "        self.n = n\n",
    "        self.BOS = BOS\n",
    "        self.EOS = EOS\n",
    "        ngram_counts: Dict[Tuple[str, ...], Dict[str, int]] = self.build_ngram_counts(\n",
    "            tokenized_texts, n, BOS, EOS\n",
    "        )\n",
    "\n",
    "        self.vocab = {\n",
    "            token for distribution in ngram_counts.values() for token in distribution\n",
    "        }\n",
    "\n",
    "        self.probs = defaultdict(Counter)\n",
    "\n",
    "        for prefix, distribution in ngram_counts.items():\n",
    "            norm: float = sum(distribution.values()) + delta * len(self.vocab)\n",
    "            self.probs[prefix] = {\n",
    "                token: (count + delta) / norm for token, count in distribution.items()\n",
    "            }\n",
    "\n",
    "    @staticmethod\n",
    "    def build_ngram_counts(\n",
    "            tokenized_texts: Iterable[Iterable[str]],\n",
    "            n: int,\n",
    "            BOS: str,\n",
    "            EOS: str\n",
    "    ) -> Dict[Tuple[str, ...], Dict[str, int]]:\n",
    "\n",
    "        counts = defaultdict(Counter)\n",
    "\n",
    "        for text in tokenized_texts:\n",
    "\n",
    "            ngrams = nltk.ngrams(\n",
    "                text, n=n, pad_left=True, pad_right=True, left_pad_symbol=BOS, right_pad_symbol=EOS\n",
    "            )\n",
    "\n",
    "            for ngram in ngrams:\n",
    "                prev, token = ngram[:-1], ngram[-1]\n",
    "                counts[prev][token] += 1\n",
    "\n",
    "        return counts\n",
    "\n",
    "\n",
    "    def __get_observed_token_distribution(self, prefix: List[str]) -> Dict[str, float]:\n",
    "        prefix = prefix[max(0, len(prefix) - self.n + 1):]\n",
    "        prefix = [self.BOS] * (self.n - 1 - len(prefix)) + prefix\n",
    "        return self.probs[tuple(prefix)]\n",
    "\n",
    "\n",
    "    def get_token_distribution(self, prefix: List[str]) -> Dict[str, float]:\n",
    "\n",
    "        distribution: Dict[str, float] = self.__get_observed_token_distribution(prefix)\n",
    "\n",
    "        missing_prob_total: float = 1.0 - sum(distribution.values())\n",
    "\n",
    "        missing_prob = missing_prob_total / max(1, len(self.vocab) - len(distribution))\n",
    "\n",
    "        return {token: distribution.get(token, missing_prob) for token in self.vocab}\n",
    "\n",
    "\n",
    "    def get_next_token_prob(self, prefix: List[str], next_token: str):\n",
    "\n",
    "        distribution: Dict[str, float] = self.__get_observed_token_distribution(prefix)\n",
    "\n",
    "        if next_token in distribution:\n",
    "            return distribution[next_token]\n",
    "\n",
    "        else:\n",
    "            missing_prob_total = 1.0 - sum(distribution.values())\n",
    "            return max(0, missing_prob_total) / max(1, len(self.vocab) - len(distribution))\n",
    "\n",
    "\n",
    "    def score_sequence(self, tokens: List[str], min_logprob: float = np.log(10 ** -50.)) -> float:\n",
    "        prefix = [self.BOS] * (self.n - 1)\n",
    "        padded_tokens = tokens + [self.EOS]\n",
    "        logprobs_sum = 0.0\n",
    "        for token in padded_tokens:\n",
    "            logprob = np.log(self.get_next_token_prob(prefix, token))\n",
    "            prefix = prefix[1:] + [token]\n",
    "            logprobs_sum += max(logprob, min_logprob)\n",
    "        return logprobs_sum / len(tokens) if tokens else 0.0"
   ],
   "metadata": {
    "collapsed": false,
    "pycharm": {
     "name": "#%%\n"
    }
   }
  },
  {
   "cell_type": "code",
   "execution_count": 31,
   "outputs": [],
   "source": [
    "text_data_np = np.array(text_data)\n",
    "lm = LaplaceLanguageModel(\n",
    "    n=2,\n",
    "    tokenized_texts=text_data_np[0],\n",
    "    delta=1e-5\n",
    ")"
   ],
   "metadata": {
    "collapsed": false,
    "pycharm": {
     "name": "#%%\n"
    }
   }
  },
  {
   "cell_type": "code",
   "execution_count": 32,
   "outputs": [
    {
     "name": "stdout",
     "output_type": "stream",
     "text": [
      "мама мыла раму\t\t-5.46\n",
      "мамо мыла раму\t\t-4.70\n",
      "машинное обучение\t\t-2.91\n",
      "маинное обучение\t\t-2.99\n"
     ]
    }
   ],
   "source": [
    "for text in ('мама мыла раму', 'мамо мыла раму', 'машинное обучение', 'маинное обучение'):\n",
    "    score = lm.score_sequence(list(text))\n",
    "    print(f\"{text}\\t\\t{score:.2f}\")"
   ],
   "metadata": {
    "collapsed": false,
    "pycharm": {
     "name": "#%%\n"
    }
   }
  },
  {
   "cell_type": "code",
   "execution_count": 33,
   "outputs": [
    {
     "ename": "KeyError",
     "evalue": "'rover_on_corrected'",
     "output_type": "error",
     "traceback": [
      "\u001B[0;31m---------------------------------------------------------------------------\u001B[0m",
      "\u001B[0;31mKeyError\u001B[0m                                  Traceback (most recent call last)",
      "\u001B[0;32m~/opt/anaconda3/lib/python3.9/site-packages/pandas/core/indexes/base.py\u001B[0m in \u001B[0;36mget_loc\u001B[0;34m(self, key, method, tolerance)\u001B[0m\n\u001B[1;32m   3360\u001B[0m             \u001B[0;32mtry\u001B[0m\u001B[0;34m:\u001B[0m\u001B[0;34m\u001B[0m\u001B[0;34m\u001B[0m\u001B[0m\n\u001B[0;32m-> 3361\u001B[0;31m                 \u001B[0;32mreturn\u001B[0m \u001B[0mself\u001B[0m\u001B[0;34m.\u001B[0m\u001B[0m_engine\u001B[0m\u001B[0;34m.\u001B[0m\u001B[0mget_loc\u001B[0m\u001B[0;34m(\u001B[0m\u001B[0mcasted_key\u001B[0m\u001B[0;34m)\u001B[0m\u001B[0;34m\u001B[0m\u001B[0;34m\u001B[0m\u001B[0m\n\u001B[0m\u001B[1;32m   3362\u001B[0m             \u001B[0;32mexcept\u001B[0m \u001B[0mKeyError\u001B[0m \u001B[0;32mas\u001B[0m \u001B[0merr\u001B[0m\u001B[0;34m:\u001B[0m\u001B[0;34m\u001B[0m\u001B[0;34m\u001B[0m\u001B[0m\n",
      "\u001B[0;32m~/opt/anaconda3/lib/python3.9/site-packages/pandas/_libs/index.pyx\u001B[0m in \u001B[0;36mpandas._libs.index.IndexEngine.get_loc\u001B[0;34m()\u001B[0m\n",
      "\u001B[0;32m~/opt/anaconda3/lib/python3.9/site-packages/pandas/_libs/index.pyx\u001B[0m in \u001B[0;36mpandas._libs.index.IndexEngine.get_loc\u001B[0;34m()\u001B[0m\n",
      "\u001B[0;32mpandas/_libs/hashtable_class_helper.pxi\u001B[0m in \u001B[0;36mpandas._libs.hashtable.PyObjectHashTable.get_item\u001B[0;34m()\u001B[0m\n",
      "\u001B[0;32mpandas/_libs/hashtable_class_helper.pxi\u001B[0m in \u001B[0;36mpandas._libs.hashtable.PyObjectHashTable.get_item\u001B[0;34m()\u001B[0m\n",
      "\u001B[0;31mKeyError\u001B[0m: 'rover_on_corrected'",
      "\nThe above exception was the direct cause of the following exception:\n",
      "\u001B[0;31mKeyError\u001B[0m                                  Traceback (most recent call last)",
      "\u001B[0;32m/var/folders/04/7ltt_n9d1z14zmw8_ky4jc5h0000gn/T/ipykernel_18101/182978126.py\u001B[0m in \u001B[0;36m<module>\u001B[0;34m\u001B[0m\n\u001B[0;32m----> 1\u001B[0;31m max_likelihood_utterances = val_df.apply(\n\u001B[0m\u001B[1;32m      2\u001B[0m     lambda row: row[\n\u001B[1;32m      3\u001B[0m         np.array([\n\u001B[1;32m      4\u001B[0m             \u001B[0mlm\u001B[0m\u001B[0;34m.\u001B[0m\u001B[0mscore_sequence\u001B[0m\u001B[0;34m(\u001B[0m\u001B[0mtokens\u001B[0m\u001B[0;34m=\u001B[0m\u001B[0mlist\u001B[0m\u001B[0;34m(\u001B[0m\u001B[0mrow\u001B[0m\u001B[0;34m[\u001B[0m\u001B[0mmodel\u001B[0m\u001B[0;34m]\u001B[0m\u001B[0;34m)\u001B[0m\u001B[0;34m)\u001B[0m \u001B[0;32mfor\u001B[0m \u001B[0mmodel\u001B[0m \u001B[0;32min\u001B[0m \u001B[0mMODEL_LIST\u001B[0m\u001B[0;34m\u001B[0m\u001B[0;34m\u001B[0m\u001B[0m\n\u001B[1;32m      5\u001B[0m         ]).argmax()\n",
      "\u001B[0;32m~/opt/anaconda3/lib/python3.9/site-packages/pandas/core/frame.py\u001B[0m in \u001B[0;36mapply\u001B[0;34m(self, func, axis, raw, result_type, args, **kwargs)\u001B[0m\n\u001B[1;32m   8738\u001B[0m             \u001B[0mkwargs\u001B[0m\u001B[0;34m=\u001B[0m\u001B[0mkwargs\u001B[0m\u001B[0;34m,\u001B[0m\u001B[0;34m\u001B[0m\u001B[0;34m\u001B[0m\u001B[0m\n\u001B[1;32m   8739\u001B[0m         )\n\u001B[0;32m-> 8740\u001B[0;31m         \u001B[0;32mreturn\u001B[0m \u001B[0mop\u001B[0m\u001B[0;34m.\u001B[0m\u001B[0mapply\u001B[0m\u001B[0;34m(\u001B[0m\u001B[0;34m)\u001B[0m\u001B[0;34m\u001B[0m\u001B[0;34m\u001B[0m\u001B[0m\n\u001B[0m\u001B[1;32m   8741\u001B[0m \u001B[0;34m\u001B[0m\u001B[0m\n\u001B[1;32m   8742\u001B[0m     def applymap(\n",
      "\u001B[0;32m~/opt/anaconda3/lib/python3.9/site-packages/pandas/core/apply.py\u001B[0m in \u001B[0;36mapply\u001B[0;34m(self)\u001B[0m\n\u001B[1;32m    686\u001B[0m             \u001B[0;32mreturn\u001B[0m \u001B[0mself\u001B[0m\u001B[0;34m.\u001B[0m\u001B[0mapply_raw\u001B[0m\u001B[0;34m(\u001B[0m\u001B[0;34m)\u001B[0m\u001B[0;34m\u001B[0m\u001B[0;34m\u001B[0m\u001B[0m\n\u001B[1;32m    687\u001B[0m \u001B[0;34m\u001B[0m\u001B[0m\n\u001B[0;32m--> 688\u001B[0;31m         \u001B[0;32mreturn\u001B[0m \u001B[0mself\u001B[0m\u001B[0;34m.\u001B[0m\u001B[0mapply_standard\u001B[0m\u001B[0;34m(\u001B[0m\u001B[0;34m)\u001B[0m\u001B[0;34m\u001B[0m\u001B[0;34m\u001B[0m\u001B[0m\n\u001B[0m\u001B[1;32m    689\u001B[0m \u001B[0;34m\u001B[0m\u001B[0m\n\u001B[1;32m    690\u001B[0m     \u001B[0;32mdef\u001B[0m \u001B[0magg\u001B[0m\u001B[0;34m(\u001B[0m\u001B[0mself\u001B[0m\u001B[0;34m)\u001B[0m\u001B[0;34m:\u001B[0m\u001B[0;34m\u001B[0m\u001B[0;34m\u001B[0m\u001B[0m\n",
      "\u001B[0;32m~/opt/anaconda3/lib/python3.9/site-packages/pandas/core/apply.py\u001B[0m in \u001B[0;36mapply_standard\u001B[0;34m(self)\u001B[0m\n\u001B[1;32m    810\u001B[0m \u001B[0;34m\u001B[0m\u001B[0m\n\u001B[1;32m    811\u001B[0m     \u001B[0;32mdef\u001B[0m \u001B[0mapply_standard\u001B[0m\u001B[0;34m(\u001B[0m\u001B[0mself\u001B[0m\u001B[0;34m)\u001B[0m\u001B[0;34m:\u001B[0m\u001B[0;34m\u001B[0m\u001B[0;34m\u001B[0m\u001B[0m\n\u001B[0;32m--> 812\u001B[0;31m         \u001B[0mresults\u001B[0m\u001B[0;34m,\u001B[0m \u001B[0mres_index\u001B[0m \u001B[0;34m=\u001B[0m \u001B[0mself\u001B[0m\u001B[0;34m.\u001B[0m\u001B[0mapply_series_generator\u001B[0m\u001B[0;34m(\u001B[0m\u001B[0;34m)\u001B[0m\u001B[0;34m\u001B[0m\u001B[0;34m\u001B[0m\u001B[0m\n\u001B[0m\u001B[1;32m    813\u001B[0m \u001B[0;34m\u001B[0m\u001B[0m\n\u001B[1;32m    814\u001B[0m         \u001B[0;31m# wrap results\u001B[0m\u001B[0;34m\u001B[0m\u001B[0;34m\u001B[0m\u001B[0m\n",
      "\u001B[0;32m~/opt/anaconda3/lib/python3.9/site-packages/pandas/core/apply.py\u001B[0m in \u001B[0;36mapply_series_generator\u001B[0;34m(self)\u001B[0m\n\u001B[1;32m    826\u001B[0m             \u001B[0;32mfor\u001B[0m \u001B[0mi\u001B[0m\u001B[0;34m,\u001B[0m \u001B[0mv\u001B[0m \u001B[0;32min\u001B[0m \u001B[0menumerate\u001B[0m\u001B[0;34m(\u001B[0m\u001B[0mseries_gen\u001B[0m\u001B[0;34m)\u001B[0m\u001B[0;34m:\u001B[0m\u001B[0;34m\u001B[0m\u001B[0;34m\u001B[0m\u001B[0m\n\u001B[1;32m    827\u001B[0m                 \u001B[0;31m# ignore SettingWithCopy here in case the user mutates\u001B[0m\u001B[0;34m\u001B[0m\u001B[0;34m\u001B[0m\u001B[0m\n\u001B[0;32m--> 828\u001B[0;31m                 \u001B[0mresults\u001B[0m\u001B[0;34m[\u001B[0m\u001B[0mi\u001B[0m\u001B[0;34m]\u001B[0m \u001B[0;34m=\u001B[0m \u001B[0mself\u001B[0m\u001B[0;34m.\u001B[0m\u001B[0mf\u001B[0m\u001B[0;34m(\u001B[0m\u001B[0mv\u001B[0m\u001B[0;34m)\u001B[0m\u001B[0;34m\u001B[0m\u001B[0;34m\u001B[0m\u001B[0m\n\u001B[0m\u001B[1;32m    829\u001B[0m                 \u001B[0;32mif\u001B[0m \u001B[0misinstance\u001B[0m\u001B[0;34m(\u001B[0m\u001B[0mresults\u001B[0m\u001B[0;34m[\u001B[0m\u001B[0mi\u001B[0m\u001B[0;34m]\u001B[0m\u001B[0;34m,\u001B[0m \u001B[0mABCSeries\u001B[0m\u001B[0;34m)\u001B[0m\u001B[0;34m:\u001B[0m\u001B[0;34m\u001B[0m\u001B[0;34m\u001B[0m\u001B[0m\n\u001B[1;32m    830\u001B[0m                     \u001B[0;31m# If we have a view on v, we need to make a copy because\u001B[0m\u001B[0;34m\u001B[0m\u001B[0;34m\u001B[0m\u001B[0m\n",
      "\u001B[0;32m/var/folders/04/7ltt_n9d1z14zmw8_ky4jc5h0000gn/T/ipykernel_18101/182978126.py\u001B[0m in \u001B[0;36m<lambda>\u001B[0;34m(row)\u001B[0m\n\u001B[1;32m      1\u001B[0m max_likelihood_utterances = val_df.apply(\n\u001B[1;32m      2\u001B[0m     lambda row: row[\n\u001B[0;32m----> 3\u001B[0;31m         np.array([\n\u001B[0m\u001B[1;32m      4\u001B[0m             \u001B[0mlm\u001B[0m\u001B[0;34m.\u001B[0m\u001B[0mscore_sequence\u001B[0m\u001B[0;34m(\u001B[0m\u001B[0mtokens\u001B[0m\u001B[0;34m=\u001B[0m\u001B[0mlist\u001B[0m\u001B[0;34m(\u001B[0m\u001B[0mrow\u001B[0m\u001B[0;34m[\u001B[0m\u001B[0mmodel\u001B[0m\u001B[0;34m]\u001B[0m\u001B[0;34m)\u001B[0m\u001B[0;34m)\u001B[0m \u001B[0;32mfor\u001B[0m \u001B[0mmodel\u001B[0m \u001B[0;32min\u001B[0m \u001B[0mMODEL_LIST\u001B[0m\u001B[0;34m\u001B[0m\u001B[0;34m\u001B[0m\u001B[0m\n\u001B[1;32m      5\u001B[0m         ]).argmax()\n",
      "\u001B[0;32m/var/folders/04/7ltt_n9d1z14zmw8_ky4jc5h0000gn/T/ipykernel_18101/182978126.py\u001B[0m in \u001B[0;36m<listcomp>\u001B[0;34m(.0)\u001B[0m\n\u001B[1;32m      2\u001B[0m     lambda row: row[\n\u001B[1;32m      3\u001B[0m         np.array([\n\u001B[0;32m----> 4\u001B[0;31m             \u001B[0mlm\u001B[0m\u001B[0;34m.\u001B[0m\u001B[0mscore_sequence\u001B[0m\u001B[0;34m(\u001B[0m\u001B[0mtokens\u001B[0m\u001B[0;34m=\u001B[0m\u001B[0mlist\u001B[0m\u001B[0;34m(\u001B[0m\u001B[0mrow\u001B[0m\u001B[0;34m[\u001B[0m\u001B[0mmodel\u001B[0m\u001B[0;34m]\u001B[0m\u001B[0;34m)\u001B[0m\u001B[0;34m)\u001B[0m \u001B[0;32mfor\u001B[0m \u001B[0mmodel\u001B[0m \u001B[0;32min\u001B[0m \u001B[0mMODEL_LIST\u001B[0m\u001B[0;34m\u001B[0m\u001B[0;34m\u001B[0m\u001B[0m\n\u001B[0m\u001B[1;32m      5\u001B[0m         ]).argmax()\n\u001B[1;32m      6\u001B[0m     ],\n",
      "\u001B[0;32m~/opt/anaconda3/lib/python3.9/site-packages/pandas/core/series.py\u001B[0m in \u001B[0;36m__getitem__\u001B[0;34m(self, key)\u001B[0m\n\u001B[1;32m    940\u001B[0m \u001B[0;34m\u001B[0m\u001B[0m\n\u001B[1;32m    941\u001B[0m         \u001B[0;32melif\u001B[0m \u001B[0mkey_is_scalar\u001B[0m\u001B[0;34m:\u001B[0m\u001B[0;34m\u001B[0m\u001B[0;34m\u001B[0m\u001B[0m\n\u001B[0;32m--> 942\u001B[0;31m             \u001B[0;32mreturn\u001B[0m \u001B[0mself\u001B[0m\u001B[0;34m.\u001B[0m\u001B[0m_get_value\u001B[0m\u001B[0;34m(\u001B[0m\u001B[0mkey\u001B[0m\u001B[0;34m)\u001B[0m\u001B[0;34m\u001B[0m\u001B[0;34m\u001B[0m\u001B[0m\n\u001B[0m\u001B[1;32m    943\u001B[0m \u001B[0;34m\u001B[0m\u001B[0m\n\u001B[1;32m    944\u001B[0m         \u001B[0;32mif\u001B[0m \u001B[0mis_hashable\u001B[0m\u001B[0;34m(\u001B[0m\u001B[0mkey\u001B[0m\u001B[0;34m)\u001B[0m\u001B[0;34m:\u001B[0m\u001B[0;34m\u001B[0m\u001B[0;34m\u001B[0m\u001B[0m\n",
      "\u001B[0;32m~/opt/anaconda3/lib/python3.9/site-packages/pandas/core/series.py\u001B[0m in \u001B[0;36m_get_value\u001B[0;34m(self, label, takeable)\u001B[0m\n\u001B[1;32m   1049\u001B[0m \u001B[0;34m\u001B[0m\u001B[0m\n\u001B[1;32m   1050\u001B[0m         \u001B[0;31m# Similar to Index.get_value, but we do not fall back to positional\u001B[0m\u001B[0;34m\u001B[0m\u001B[0;34m\u001B[0m\u001B[0m\n\u001B[0;32m-> 1051\u001B[0;31m         \u001B[0mloc\u001B[0m \u001B[0;34m=\u001B[0m \u001B[0mself\u001B[0m\u001B[0;34m.\u001B[0m\u001B[0mindex\u001B[0m\u001B[0;34m.\u001B[0m\u001B[0mget_loc\u001B[0m\u001B[0;34m(\u001B[0m\u001B[0mlabel\u001B[0m\u001B[0;34m)\u001B[0m\u001B[0;34m\u001B[0m\u001B[0;34m\u001B[0m\u001B[0m\n\u001B[0m\u001B[1;32m   1052\u001B[0m         \u001B[0;32mreturn\u001B[0m \u001B[0mself\u001B[0m\u001B[0;34m.\u001B[0m\u001B[0mindex\u001B[0m\u001B[0;34m.\u001B[0m\u001B[0m_get_values_for_loc\u001B[0m\u001B[0;34m(\u001B[0m\u001B[0mself\u001B[0m\u001B[0;34m,\u001B[0m \u001B[0mloc\u001B[0m\u001B[0;34m,\u001B[0m \u001B[0mlabel\u001B[0m\u001B[0;34m)\u001B[0m\u001B[0;34m\u001B[0m\u001B[0;34m\u001B[0m\u001B[0m\n\u001B[1;32m   1053\u001B[0m \u001B[0;34m\u001B[0m\u001B[0m\n",
      "\u001B[0;32m~/opt/anaconda3/lib/python3.9/site-packages/pandas/core/indexes/base.py\u001B[0m in \u001B[0;36mget_loc\u001B[0;34m(self, key, method, tolerance)\u001B[0m\n\u001B[1;32m   3361\u001B[0m                 \u001B[0;32mreturn\u001B[0m \u001B[0mself\u001B[0m\u001B[0;34m.\u001B[0m\u001B[0m_engine\u001B[0m\u001B[0;34m.\u001B[0m\u001B[0mget_loc\u001B[0m\u001B[0;34m(\u001B[0m\u001B[0mcasted_key\u001B[0m\u001B[0;34m)\u001B[0m\u001B[0;34m\u001B[0m\u001B[0;34m\u001B[0m\u001B[0m\n\u001B[1;32m   3362\u001B[0m             \u001B[0;32mexcept\u001B[0m \u001B[0mKeyError\u001B[0m \u001B[0;32mas\u001B[0m \u001B[0merr\u001B[0m\u001B[0;34m:\u001B[0m\u001B[0;34m\u001B[0m\u001B[0;34m\u001B[0m\u001B[0m\n\u001B[0;32m-> 3363\u001B[0;31m                 \u001B[0;32mraise\u001B[0m \u001B[0mKeyError\u001B[0m\u001B[0;34m(\u001B[0m\u001B[0mkey\u001B[0m\u001B[0;34m)\u001B[0m \u001B[0;32mfrom\u001B[0m \u001B[0merr\u001B[0m\u001B[0;34m\u001B[0m\u001B[0;34m\u001B[0m\u001B[0m\n\u001B[0m\u001B[1;32m   3364\u001B[0m \u001B[0;34m\u001B[0m\u001B[0m\n\u001B[1;32m   3365\u001B[0m         \u001B[0;32mif\u001B[0m \u001B[0mis_scalar\u001B[0m\u001B[0;34m(\u001B[0m\u001B[0mkey\u001B[0m\u001B[0;34m)\u001B[0m \u001B[0;32mand\u001B[0m \u001B[0misna\u001B[0m\u001B[0;34m(\u001B[0m\u001B[0mkey\u001B[0m\u001B[0;34m)\u001B[0m \u001B[0;32mand\u001B[0m \u001B[0;32mnot\u001B[0m \u001B[0mself\u001B[0m\u001B[0;34m.\u001B[0m\u001B[0mhasnans\u001B[0m\u001B[0;34m:\u001B[0m\u001B[0;34m\u001B[0m\u001B[0;34m\u001B[0m\u001B[0m\n",
      "\u001B[0;31mKeyError\u001B[0m: 'rover_on_corrected'"
     ]
    }
   ],
   "source": [
    "max_likelihood_utterances = val_df.apply(\n",
    "    lambda row: row[\n",
    "        np.array([\n",
    "            lm.score_sequence(tokens=list(row[model])) for model in MODEL_LIST\n",
    "        ]).argmax()\n",
    "    ],\n",
    "    axis=1\n",
    ")"
   ],
   "metadata": {
    "collapsed": false,
    "pycharm": {
     "name": "#%%\n"
    }
   }
  },
  {
   "cell_type": "code",
   "execution_count": null,
   "outputs": [],
   "source": [
    "method2wer['dummy_rescoring'] = wer(val_df['text'], max_likelihood_utterances)"
   ],
   "metadata": {
    "collapsed": false,
    "pycharm": {
     "name": "#%%\n"
    }
   }
  },
  {
   "cell_type": "code",
   "execution_count": null,
   "outputs": [],
   "source": [
    "def get_best_transcription(ref: Iterable[str], hyps: Iterable[Iterable[str]]):\n",
    "    return hyps[\n",
    "        np.array([\n",
    "            edit_distance(ref, hyp) for hyp in hyps\n",
    "        ]).argmin()\n",
    "    ]"
   ],
   "metadata": {
    "collapsed": false,
    "pycharm": {
     "name": "#%%\n"
    }
   }
  },
  {
   "cell_type": "code",
   "execution_count": null,
   "outputs": [],
   "source": [
    "oracle_hyp = val_df.apply(\n",
    "    lambda row: \" \".join(\n",
    "        get_best_transcription(\n",
    "            ref=row['text'].split(),\n",
    "            hyps=[row[model].split() for model in MODEL_LIST]\n",
    "        )\n",
    "    ),\n",
    "    axis=1\n",
    ")"
   ],
   "metadata": {
    "collapsed": false,
    "pycharm": {
     "name": "#%%\n"
    }
   }
  },
  {
   "cell_type": "code",
   "execution_count": null,
   "outputs": [],
   "source": [
    "method2wer['oracle_wer'] = wer(val_df['text'], oracle_hyp)"
   ],
   "metadata": {
    "collapsed": false,
    "pycharm": {
     "name": "#%%\n"
    }
   }
  },
  {
   "cell_type": "code",
   "execution_count": null,
   "outputs": [],
   "source": [
    "method2wer"
   ],
   "metadata": {
    "collapsed": false,
    "pycharm": {
     "name": "#%%\n"
    }
   }
  },
  {
   "cell_type": "code",
   "execution_count": 34,
   "outputs": [],
   "source": [
    "#ИТОГ\n",
    "w2v_corr = test_df['w2v'].apply(\n",
    "    lambda x: \" \".join([correct_word(w) for w in x.split()])\n",
    ")\n",
    "\n",
    "w2v_tts_corr = test_df['w2v_tts'].apply(\n",
    "    lambda x: \" \".join([correct_word(w) for w in x.split()])\n",
    ")\n",
    "\n",
    "corrected_test = pd.DataFrame()\n",
    "corrected_test['w2v'] = w2v_corr\n",
    "corrected_test['w2v_tts'] = w2v_tts_corr\n",
    "corrected_test['qnet'] = test_df['qnet']\n",
    "corrected_test['task'] = test_df['task']"
   ],
   "metadata": {
    "collapsed": false,
    "pycharm": {
     "name": "#%%\n"
    }
   }
  },
  {
   "cell_type": "code",
   "execution_count": 35,
   "outputs": [],
   "source": [
    "rover_test_df = get_rover_df(corrected_test, ['w2v', 'w2v_tts', 'qnet'])"
   ],
   "metadata": {
    "collapsed": false,
    "pycharm": {
     "name": "#%%\n"
    }
   }
  },
  {
   "cell_type": "code",
   "execution_count": 36,
   "outputs": [
    {
     "data": {
      "text/plain": "  0%|          | 0/18875 [00:00<?, ?it/s]",
      "application/vnd.jupyter.widget-view+json": {
       "version_major": 2,
       "version_minor": 0,
       "model_id": "b01d61822ed34f4dad94e8adfed07968"
      }
     },
     "metadata": {},
     "output_type": "display_data"
    }
   ],
   "source": [
    "rover_test = (\n",
    "    ROVER(\n",
    "        tokenizer=lambda x: list(x),\n",
    "        detokenizer=lambda s: \"\".join(s),\n",
    "        silent=False\n",
    "    )\n",
    "        .fit_predict(rover_test_df)\n",
    ")"
   ],
   "metadata": {
    "collapsed": false,
    "pycharm": {
     "name": "#%%\n"
    }
   }
  },
  {
   "cell_type": "code",
   "execution_count": 37,
   "outputs": [],
   "source": [
    "rover_test_merge = pd.merge(\n",
    "    test_df,\n",
    "    rover_test.reset_index(),\n",
    "    on='task'\n",
    ")"
   ],
   "metadata": {
    "collapsed": false,
    "pycharm": {
     "name": "#%%\n"
    }
   }
  },
  {
   "cell_type": "code",
   "execution_count": 38,
   "outputs": [
    {
     "data": {
      "text/plain": "                                   task  \\\n0      73aff8bc8d99278c6ca6d1ac243557e3   \n1      ba8443f3cc91e56667278db36dea02b7   \n2      af346fae1d5686a357e32710c5d4f13e   \n3      262fda7ab40a8417b99ecb314b3f7405   \n4      08bd8fb35ceaf2843734ffeb389f2283   \n...                                 ...   \n18870  35e142d32571927fa08227a5d1a89152   \n18871  0c7beaae1712adf488fae74a4966b661   \n18872  5de895309c234ced55d31f001e930250   \n18873  beda99f2bada550facb9a70c1c48a62b   \n18874  ca27457fe19fe859f17a7c755d07b796   \n\n                                                    qnet  \\\n0                                                   дели   \n1                     вектор упавнович чунула к лещенуму   \n2                                        риме менниковой   \n3                                  александровик провичо   \n4                                           я ро славцов   \n...                                                  ...   \n18870         пермский государственный институт культуры   \n18871                                 дальфурму на карте   \n18872            городская полекленника но меродинадцать   \n18873                                       билет шафран   \n18874  талиятинский рацконер кологически из панцерно ...   \n\n                                                     w2v  \\\n0                                                   зили   \n1                        виктору павловичу новокрещеному   \n2                                      римми мельниковой   \n3                                 александру викторовичу   \n4                                             ерославцев   \n...                                                  ...   \n18870         пермский государственный институт культуры   \n18871                                даль фарма на карте   \n18872            городская полеклиника номер одиннадцать   \n18873                                       билет шафран   \n18874  тальятинский городской наркологический испансе...   \n\n                                                 w2v_tts  \\\n0                                                   зили   \n1                   виктору павлновичу навокрещинову  оо   \n2                                      рымми мельниковой   \n3                                 александру викторовичу   \n4                                             ярославцев   \n...                                                  ...   \n18870         пярмский государственный институт культуры   \n18871                                дальфарман на карте   \n18872           городцкое полеклене эко номер одинадцать   \n18873                                       белет шафран   \n18874  тальятински гратской наркологической эспонсерн...   \n\n                                              prediction  \n0                                                   лили  \n1                       виктори павлновичу навокрещеному  \n2                                      римми мельниковой  \n3                                 александру викторовича  \n4                                             ярославцев  \n...                                                  ...  \n18870         пермский государственный институт культуры  \n18871                                 дальфарма на карте  \n18872           городская полекленника номер одиннадцать  \n18873                                       билет шафран  \n18874  тальятинский гратской наркологический испансер...  \n\n[18875 rows x 5 columns]",
      "text/html": "<div>\n<style scoped>\n    .dataframe tbody tr th:only-of-type {\n        vertical-align: middle;\n    }\n\n    .dataframe tbody tr th {\n        vertical-align: top;\n    }\n\n    .dataframe thead th {\n        text-align: right;\n    }\n</style>\n<table border=\"1\" class=\"dataframe\">\n  <thead>\n    <tr style=\"text-align: right;\">\n      <th></th>\n      <th>task</th>\n      <th>qnet</th>\n      <th>w2v</th>\n      <th>w2v_tts</th>\n      <th>prediction</th>\n    </tr>\n  </thead>\n  <tbody>\n    <tr>\n      <th>0</th>\n      <td>73aff8bc8d99278c6ca6d1ac243557e3</td>\n      <td>дели</td>\n      <td>зили</td>\n      <td>зили</td>\n      <td>лили</td>\n    </tr>\n    <tr>\n      <th>1</th>\n      <td>ba8443f3cc91e56667278db36dea02b7</td>\n      <td>вектор упавнович чунула к лещенуму</td>\n      <td>виктору павловичу новокрещеному</td>\n      <td>виктору павлновичу навокрещинову  оо</td>\n      <td>виктори павлновичу навокрещеному</td>\n    </tr>\n    <tr>\n      <th>2</th>\n      <td>af346fae1d5686a357e32710c5d4f13e</td>\n      <td>риме менниковой</td>\n      <td>римми мельниковой</td>\n      <td>рымми мельниковой</td>\n      <td>римми мельниковой</td>\n    </tr>\n    <tr>\n      <th>3</th>\n      <td>262fda7ab40a8417b99ecb314b3f7405</td>\n      <td>александровик провичо</td>\n      <td>александру викторовичу</td>\n      <td>александру викторовичу</td>\n      <td>александру викторовича</td>\n    </tr>\n    <tr>\n      <th>4</th>\n      <td>08bd8fb35ceaf2843734ffeb389f2283</td>\n      <td>я ро славцов</td>\n      <td>ерославцев</td>\n      <td>ярославцев</td>\n      <td>ярославцев</td>\n    </tr>\n    <tr>\n      <th>...</th>\n      <td>...</td>\n      <td>...</td>\n      <td>...</td>\n      <td>...</td>\n      <td>...</td>\n    </tr>\n    <tr>\n      <th>18870</th>\n      <td>35e142d32571927fa08227a5d1a89152</td>\n      <td>пермский государственный институт культуры</td>\n      <td>пермский государственный институт культуры</td>\n      <td>пярмский государственный институт культуры</td>\n      <td>пермский государственный институт культуры</td>\n    </tr>\n    <tr>\n      <th>18871</th>\n      <td>0c7beaae1712adf488fae74a4966b661</td>\n      <td>дальфурму на карте</td>\n      <td>даль фарма на карте</td>\n      <td>дальфарман на карте</td>\n      <td>дальфарма на карте</td>\n    </tr>\n    <tr>\n      <th>18872</th>\n      <td>5de895309c234ced55d31f001e930250</td>\n      <td>городская полекленника но меродинадцать</td>\n      <td>городская полеклиника номер одиннадцать</td>\n      <td>городцкое полеклене эко номер одинадцать</td>\n      <td>городская полекленника номер одиннадцать</td>\n    </tr>\n    <tr>\n      <th>18873</th>\n      <td>beda99f2bada550facb9a70c1c48a62b</td>\n      <td>билет шафран</td>\n      <td>билет шафран</td>\n      <td>белет шафран</td>\n      <td>билет шафран</td>\n    </tr>\n    <tr>\n      <th>18874</th>\n      <td>ca27457fe19fe859f17a7c755d07b796</td>\n      <td>талиятинский рацконер кологически из панцерно ...</td>\n      <td>тальятинский городской наркологический испансе...</td>\n      <td>тальятински гратской наркологической эспонсерн...</td>\n      <td>тальятинский гратской наркологический испансер...</td>\n    </tr>\n  </tbody>\n</table>\n<p>18875 rows × 5 columns</p>\n</div>"
     },
     "execution_count": 38,
     "metadata": {},
     "output_type": "execute_result"
    }
   ],
   "source": [
    "rover_test_merge = rover_test_merge.rename({'agg_text': 'prediction'}, axis=1)\n",
    "rover_test_merge"
   ],
   "metadata": {
    "collapsed": false,
    "pycharm": {
     "name": "#%%\n"
    }
   }
  },
  {
   "cell_type": "code",
   "execution_count": 51,
   "outputs": [],
   "source": [
    "test_result = rover_test_merge[[\"task\", \"prediction\"]]"
   ],
   "metadata": {
    "collapsed": false,
    "pycharm": {
     "name": "#%%\n"
    }
   }
  },
  {
   "cell_type": "code",
   "execution_count": 52,
   "outputs": [
    {
     "data": {
      "text/plain": "                                   task  \\\n0      73aff8bc8d99278c6ca6d1ac243557e3   \n1      ba8443f3cc91e56667278db36dea02b7   \n2      af346fae1d5686a357e32710c5d4f13e   \n3      262fda7ab40a8417b99ecb314b3f7405   \n4      08bd8fb35ceaf2843734ffeb389f2283   \n...                                 ...   \n18870  35e142d32571927fa08227a5d1a89152   \n18871  0c7beaae1712adf488fae74a4966b661   \n18872  5de895309c234ced55d31f001e930250   \n18873  beda99f2bada550facb9a70c1c48a62b   \n18874  ca27457fe19fe859f17a7c755d07b796   \n\n                                              prediction  \n0                                                   лили  \n1                       виктори павлновичу навокрещеному  \n2                                      римми мельниковой  \n3                                 александру викторовича  \n4                                             ярославцев  \n...                                                  ...  \n18870         пермский государственный институт культуры  \n18871                                 дальфарма на карте  \n18872           городская полекленника номер одиннадцать  \n18873                                       билет шафран  \n18874  тальятинский гратской наркологический испансер...  \n\n[18875 rows x 2 columns]",
      "text/html": "<div>\n<style scoped>\n    .dataframe tbody tr th:only-of-type {\n        vertical-align: middle;\n    }\n\n    .dataframe tbody tr th {\n        vertical-align: top;\n    }\n\n    .dataframe thead th {\n        text-align: right;\n    }\n</style>\n<table border=\"1\" class=\"dataframe\">\n  <thead>\n    <tr style=\"text-align: right;\">\n      <th></th>\n      <th>task</th>\n      <th>prediction</th>\n    </tr>\n  </thead>\n  <tbody>\n    <tr>\n      <th>0</th>\n      <td>73aff8bc8d99278c6ca6d1ac243557e3</td>\n      <td>лили</td>\n    </tr>\n    <tr>\n      <th>1</th>\n      <td>ba8443f3cc91e56667278db36dea02b7</td>\n      <td>виктори павлновичу навокрещеному</td>\n    </tr>\n    <tr>\n      <th>2</th>\n      <td>af346fae1d5686a357e32710c5d4f13e</td>\n      <td>римми мельниковой</td>\n    </tr>\n    <tr>\n      <th>3</th>\n      <td>262fda7ab40a8417b99ecb314b3f7405</td>\n      <td>александру викторовича</td>\n    </tr>\n    <tr>\n      <th>4</th>\n      <td>08bd8fb35ceaf2843734ffeb389f2283</td>\n      <td>ярославцев</td>\n    </tr>\n    <tr>\n      <th>...</th>\n      <td>...</td>\n      <td>...</td>\n    </tr>\n    <tr>\n      <th>18870</th>\n      <td>35e142d32571927fa08227a5d1a89152</td>\n      <td>пермский государственный институт культуры</td>\n    </tr>\n    <tr>\n      <th>18871</th>\n      <td>0c7beaae1712adf488fae74a4966b661</td>\n      <td>дальфарма на карте</td>\n    </tr>\n    <tr>\n      <th>18872</th>\n      <td>5de895309c234ced55d31f001e930250</td>\n      <td>городская полекленника номер одиннадцать</td>\n    </tr>\n    <tr>\n      <th>18873</th>\n      <td>beda99f2bada550facb9a70c1c48a62b</td>\n      <td>билет шафран</td>\n    </tr>\n    <tr>\n      <th>18874</th>\n      <td>ca27457fe19fe859f17a7c755d07b796</td>\n      <td>тальятинский гратской наркологический испансер...</td>\n    </tr>\n  </tbody>\n</table>\n<p>18875 rows × 2 columns</p>\n</div>"
     },
     "execution_count": 52,
     "metadata": {},
     "output_type": "execute_result"
    }
   ],
   "source": [
    "test_result"
   ],
   "metadata": {
    "collapsed": false,
    "pycharm": {
     "name": "#%%\n"
    }
   }
  },
  {
   "cell_type": "markdown",
   "source": [],
   "metadata": {
    "collapsed": false
   }
  },
  {
   "cell_type": "code",
   "execution_count": 41,
   "outputs": [
    {
     "data": {
      "text/plain": "                                   task  \\\n0      73aff8bc8d99278c6ca6d1ac243557e3   \n1      ba8443f3cc91e56667278db36dea02b7   \n2      af346fae1d5686a357e32710c5d4f13e   \n3      262fda7ab40a8417b99ecb314b3f7405   \n4      08bd8fb35ceaf2843734ffeb389f2283   \n...                                 ...   \n18870  35e142d32571927fa08227a5d1a89152   \n18871  0c7beaae1712adf488fae74a4966b661   \n18872  5de895309c234ced55d31f001e930250   \n18873  beda99f2bada550facb9a70c1c48a62b   \n18874  ca27457fe19fe859f17a7c755d07b796   \n\n                                                    qnet  \\\n0                                                   дели   \n1                     вектор упавнович чунула к лещенуму   \n2                                        риме менниковой   \n3                                  александровик провичо   \n4                                           я ро славцов   \n...                                                  ...   \n18870         пермский государственный институт культуры   \n18871                                 дальфурму на карте   \n18872            городская полекленника но меродинадцать   \n18873                                       билет шафран   \n18874  талиятинский рацконер кологически из панцерно ...   \n\n                                                     w2v  \\\n0                                                   зили   \n1                        виктору павловичу новокрещеному   \n2                                      римми мельниковой   \n3                                 александру викторовичу   \n4                                             ерославцев   \n...                                                  ...   \n18870         пермский государственный институт культуры   \n18871                                даль фарма на карте   \n18872            городская полеклиника номер одиннадцать   \n18873                                       билет шафран   \n18874  тальятинский городской наркологический испансе...   \n\n                                                 w2v_tts  \n0                                                   зили  \n1                   виктору павлновичу навокрещинову  оо  \n2                                      рымми мельниковой  \n3                                 александру викторовичу  \n4                                             ярославцев  \n...                                                  ...  \n18870         пярмский государственный институт культуры  \n18871                                дальфарман на карте  \n18872           городцкое полеклене эко номер одинадцать  \n18873                                       белет шафран  \n18874  тальятински гратской наркологической эспонсерн...  \n\n[18875 rows x 4 columns]",
      "text/html": "<div>\n<style scoped>\n    .dataframe tbody tr th:only-of-type {\n        vertical-align: middle;\n    }\n\n    .dataframe tbody tr th {\n        vertical-align: top;\n    }\n\n    .dataframe thead th {\n        text-align: right;\n    }\n</style>\n<table border=\"1\" class=\"dataframe\">\n  <thead>\n    <tr style=\"text-align: right;\">\n      <th></th>\n      <th>task</th>\n      <th>qnet</th>\n      <th>w2v</th>\n      <th>w2v_tts</th>\n    </tr>\n  </thead>\n  <tbody>\n    <tr>\n      <th>0</th>\n      <td>73aff8bc8d99278c6ca6d1ac243557e3</td>\n      <td>дели</td>\n      <td>зили</td>\n      <td>зили</td>\n    </tr>\n    <tr>\n      <th>1</th>\n      <td>ba8443f3cc91e56667278db36dea02b7</td>\n      <td>вектор упавнович чунула к лещенуму</td>\n      <td>виктору павловичу новокрещеному</td>\n      <td>виктору павлновичу навокрещинову  оо</td>\n    </tr>\n    <tr>\n      <th>2</th>\n      <td>af346fae1d5686a357e32710c5d4f13e</td>\n      <td>риме менниковой</td>\n      <td>римми мельниковой</td>\n      <td>рымми мельниковой</td>\n    </tr>\n    <tr>\n      <th>3</th>\n      <td>262fda7ab40a8417b99ecb314b3f7405</td>\n      <td>александровик провичо</td>\n      <td>александру викторовичу</td>\n      <td>александру викторовичу</td>\n    </tr>\n    <tr>\n      <th>4</th>\n      <td>08bd8fb35ceaf2843734ffeb389f2283</td>\n      <td>я ро славцов</td>\n      <td>ерославцев</td>\n      <td>ярославцев</td>\n    </tr>\n    <tr>\n      <th>...</th>\n      <td>...</td>\n      <td>...</td>\n      <td>...</td>\n      <td>...</td>\n    </tr>\n    <tr>\n      <th>18870</th>\n      <td>35e142d32571927fa08227a5d1a89152</td>\n      <td>пермский государственный институт культуры</td>\n      <td>пермский государственный институт культуры</td>\n      <td>пярмский государственный институт культуры</td>\n    </tr>\n    <tr>\n      <th>18871</th>\n      <td>0c7beaae1712adf488fae74a4966b661</td>\n      <td>дальфурму на карте</td>\n      <td>даль фарма на карте</td>\n      <td>дальфарман на карте</td>\n    </tr>\n    <tr>\n      <th>18872</th>\n      <td>5de895309c234ced55d31f001e930250</td>\n      <td>городская полекленника но меродинадцать</td>\n      <td>городская полеклиника номер одиннадцать</td>\n      <td>городцкое полеклене эко номер одинадцать</td>\n    </tr>\n    <tr>\n      <th>18873</th>\n      <td>beda99f2bada550facb9a70c1c48a62b</td>\n      <td>билет шафран</td>\n      <td>билет шафран</td>\n      <td>белет шафран</td>\n    </tr>\n    <tr>\n      <th>18874</th>\n      <td>ca27457fe19fe859f17a7c755d07b796</td>\n      <td>талиятинский рацконер кологически из панцерно ...</td>\n      <td>тальятинский городской наркологический испансе...</td>\n      <td>тальятински гратской наркологической эспонсерн...</td>\n    </tr>\n  </tbody>\n</table>\n<p>18875 rows × 4 columns</p>\n</div>"
     },
     "execution_count": 41,
     "metadata": {},
     "output_type": "execute_result"
    }
   ],
   "source": [
    "test_df"
   ],
   "metadata": {
    "collapsed": false,
    "pycharm": {
     "name": "#%%\n"
    }
   }
  },
  {
   "cell_type": "code",
   "execution_count": 54,
   "outputs": [],
   "source": [
    "username = \"maratgasanov\"\n",
    "\n",
    "test_result.to_json(\n",
    "    f\"noisy_text_aggregation_test_prediction_{username}.jsonl\",\n",
    "    lines=True, orient=\"records\"\n",
    ")"
   ],
   "metadata": {
    "collapsed": false,
    "pycharm": {
     "name": "#%%\n"
    }
   }
  },
  {
   "cell_type": "code",
   "execution_count": null,
   "outputs": [],
   "source": [],
   "metadata": {
    "collapsed": false,
    "pycharm": {
     "name": "#%%\n"
    }
   }
  }
 ],
 "metadata": {
  "kernelspec": {
   "display_name": "Python 3",
   "language": "python",
   "name": "python3"
  },
  "language_info": {
   "codemirror_mode": {
    "name": "ipython",
    "version": 2
   },
   "file_extension": ".py",
   "mimetype": "text/x-python",
   "name": "python",
   "nbconvert_exporter": "python",
   "pygments_lexer": "ipython2",
   "version": "2.7.6"
  }
 },
 "nbformat": 4,
 "nbformat_minor": 0
}